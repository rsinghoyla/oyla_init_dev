{
 "cells": [
  {
   "cell_type": "code",
   "execution_count": 2,
   "metadata": {},
   "outputs": [],
   "source": [
    "import xml.etree.ElementTree as ET\n"
   ]
  },
  {
   "cell_type": "code",
   "execution_count": 3,
   "metadata": {},
   "outputs": [],
   "source": [
    "import glob"
   ]
  },
  {
   "cell_type": "code",
   "execution_count": 4,
   "metadata": {},
   "outputs": [],
   "source": [
    "import pickle as pkl"
   ]
  },
  {
   "cell_type": "code",
   "execution_count": 5,
   "metadata": {},
   "outputs": [],
   "source": [
    "dirs = glob.glob('/Users/rsingh/Data/44x33/oyla_1_camera_v2/08_Feb_data_February_08_05_41_43/kitti/2d/*rgb*/yolo.pkl')\n",
    "#dirs.extend(glob.glob('/Users/rsingh/Data/44x33/oyla_1_camera_v2/08_Feb_data_February_08_05_41_43/kitti/2d/*rgb*/yolo.pkl'))"
   ]
  },
  {
   "cell_type": "code",
   "execution_count": 6,
   "metadata": {},
   "outputs": [],
   "source": [
    "person_cnts = {}\n",
    "for d in dirs:                                 \n",
    "    with open(d,'rb') as fp:\n",
    "        data = pkl.load(fp)\n",
    "    cnt = 0\n",
    "    for k in data.keys():\n",
    "        for _d in data[k]:\n",
    "            if 'person' == _d[0]:\n",
    "                cnt += 1\n",
    "    #print(d.split('/')[7:])\n",
    "    person_cnts['_'.join(d.split('/')[7:-1])] = cnt"
   ]
  },
  {
   "cell_type": "code",
   "execution_count": 7,
   "metadata": {},
   "outputs": [
    {
     "data": {
      "text/plain": [
       "{'kitti_2d_ergb_eqh__': 41,\n",
       " 'kitti_2d_ergb_fs_reflectivity_comp_highpass_reflectivity_': 509,\n",
       " 'kitti_2d_ergb_fs_reflectivity_comp_supress_saturation': 641,\n",
       " 'kitti_2d_ergb_fs_reflectivity_comp_supress_saturation_1': 629,\n",
       " 'kitti_2d_ergb_fs_reflectivity_comp_supress_saturation_10': 629,\n",
       " 'kitti_2d_ergb_fs_reflectivity_comp_supress_saturation_100': 527,\n",
       " 'kitti_2d_ergb_fs_reflectivity_comp_supress_saturation_highpass_reflectivity_': 602,\n",
       " 'kitti_2d_ergb_fs_reflectivity_comp_supress_saturation_minmax_scaling_': 694,\n",
       " 'kitti_2d_ergb_fs_reflectivity_comp_supress_saturation_minmax_scaling_cutoff_100_': 650,\n",
       " 'kitti_2d_ergb_fs_reflectivity_comp_supress_saturation_minmax_scaling_cutoff_1_': 619,\n",
       " 'kitti_2d_ergb_fs_reflectivity_comp_supress_saturation_nom': 463,\n",
       " 'kitti_2d_ergb_fs_reflectivity_comp_supress_saturation_whiten': 694,\n",
       " 'kitti_2d_ergb_fs_reflectivity_comp_th_0': 557,\n",
       " 'kitti_2d_ergb_fs_reflectivity_comp_th_0_1': 598,\n",
       " 'kitti_2d_ergb_fs_reflectivity_comp_th_0_1_whiten': 665,\n",
       " 'kitti_2d_ergb_fs_reflectivity_comp_th_1': 596,\n",
       " 'kitti_2d_ergb_iso_depth_eq_hist': 91,\n",
       " 'kitti_2d_ergb_reflectivity_comp': 617,\n",
       " 'kitti_2d_ergb_reflectivity_comp_th_0': 563,\n",
       " 'kitti_2d_ergb_reflectivity_comp_th_1': 604,\n",
       " 'kitti_2d_ergb_reflectivity_mult': 539,\n",
       " 'kitti_2d_ergb_stransform': 491,\n",
       " 'kitti_2d_ergb_stransform_phase': 283,\n",
       " 'kitti_2d_rgb': 393}"
      ]
     },
     "execution_count": 7,
     "metadata": {},
     "output_type": "execute_result"
    }
   ],
   "source": [
    "person_cnts"
   ]
  },
  {
   "cell_type": "code",
   "execution_count": 14,
   "metadata": {},
   "outputs": [
    {
     "name": "stdout",
     "output_type": "stream",
     "text": [
      "not in 1 oyla_0073.png\n",
      "not in 2 oyla_0416.png\n"
     ]
    }
   ],
   "source": [
    "with open('/Users/rsingh/Data/44x33/oyla_1_camera_v2/12_Feb_data_February_12_20_16_19//kitti/2d/ergb_stransform/yolo.pkl','rb') as fp:\n",
    "    data1 = pkl.load(fp)\n",
    "with open('/Users/rsingh/Data/44x33/oyla_1_camera_v2/12_Feb_data_February_12_20_16_19//kitti/2d/rgb//yolo.pkl','rb') as fp:\n",
    "    data2 = pkl.load(fp)\n",
    "for k in data1.keys():\n",
    "    c1 = False\n",
    "    c2 = False\n",
    "    for _d in data1[k]:\n",
    "        if 'person' == _d[0]:\n",
    "            c1 = True\n",
    "            break\n",
    "    for _d in data2[k]:\n",
    "        if 'person' == _d[0]:\n",
    "            c2 = True\n",
    "            break    \n",
    "    if c1 and not c2:\n",
    "        print('not in 2',k)\n",
    "    if not c1 and c2:\n",
    "        print('not in 1',k)\n",
    "#     if not c1 and not c2:\n",
    "#         print('not in either',k)"
   ]
  },
  {
   "cell_type": "code",
   "execution_count": 42,
   "metadata": {},
   "outputs": [
    {
     "data": {
      "text/plain": [
       "'08_Feb_data_February_08_05_41_43_kitti_2d_rgb'"
      ]
     },
     "execution_count": 42,
     "metadata": {},
     "output_type": "execute_result"
    }
   ],
   "source": [
    "'_'.join(dirs[-1].split('/')[6:-1])"
   ]
  },
  {
   "cell_type": "code",
   "execution_count": 70,
   "metadata": {},
   "outputs": [
    {
     "name": "stdout",
     "output_type": "stream",
     "text": [
      "217 22\n"
     ]
    }
   ],
   "source": [
    "dir_path = '/Users/rsingh/Data/44x33/oyla_1_camera_v2/16_Feb_data_February_16_18_47_42//'\n",
    "with open(dir_path+'/kitti/2d/ergb_stransform/yolo.pkl','rb') as fp:\n",
    "    data = pkl.load(fp)\n",
    "\n",
    "files = glob.glob(dir_path+'/kitti/2d/label_xml/backup/o*.xml')\n",
    "#label_xml_dir = '/Volumes/Samsung_T5/Oyla Dropbox/Oyla/02 Technical/10 Data/'\n",
    "\n",
    "labeled = 0\n",
    "predicted = 0\n",
    "for f in files:\n",
    "    #p = len(open(f).read().splitlines())\n",
    "    tree = ET.parse(f)\n",
    "    root = tree.getroot()\n",
    "    p = 0\n",
    "    for child in root.findall('object'):\n",
    "        if child.find('name').text == 'person':\n",
    "            p += 1\n",
    "    c = 0\n",
    "    for d in data[f.split('/')[-1].replace('xml','png')]:\n",
    "        if 'person' in d[0]:\n",
    "            c += 1\n",
    "    labeled += p\n",
    "    predicted += c\n",
    "    #print(p,c)\n",
    "print(labeled,predicted)"
   ]
  },
  {
   "cell_type": "code",
   "execution_count": 69,
   "metadata": {},
   "outputs": [
    {
     "name": "stdout",
     "output_type": "stream",
     "text": [
      "person\n",
      "person\n"
     ]
    }
   ],
   "source": [
    "for child in root.findall('object'):\n",
    "    print(child.find('name').text)"
   ]
  },
  {
   "cell_type": "code",
   "execution_count": 89,
   "metadata": {},
   "outputs": [
    {
     "data": {
      "text/plain": [
       "'/Volumes/Samsung_T5/Oyla Dropbox/Oyla/02 Technical/10 Data/44x33/oyla_1_camera_v2/12_Feb_data_February_12_20_16_19/kitti/2d/label_xml/oyla_0999.xml'"
      ]
     },
     "execution_count": 89,
     "metadata": {},
     "output_type": "execute_result"
    }
   ],
   "source": [
    "f"
   ]
  },
  {
   "cell_type": "raw",
   "metadata": {},
   "source": [
    "import shutil\n",
    "\n",
    "for f in files:\n",
    "    nf = 'oyla_'+str(int(f.split('/')[-1].split('_')[1].split('.')[0])).zfill(4)+'.png'\n",
    "    path = '/'.join(f.split('/')[:-1])\n",
    "    nf = path+'/'+nf\n",
    "    shutil.copy(f,nf)"
   ]
  }
 ],
 "metadata": {
  "kernelspec": {
   "display_name": "Python 3",
   "language": "python",
   "name": "python3"
  },
  "language_info": {
   "codemirror_mode": {
    "name": "ipython",
    "version": 3
   },
   "file_extension": ".py",
   "mimetype": "text/x-python",
   "name": "python",
   "nbconvert_exporter": "python",
   "pygments_lexer": "ipython3",
   "version": "3.7.3"
  }
 },
 "nbformat": 4,
 "nbformat_minor": 2
}
