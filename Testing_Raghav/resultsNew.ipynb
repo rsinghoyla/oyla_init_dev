{
 "cells": [
  {
   "cell_type": "code",
   "execution_count": 1,
   "metadata": {},
   "outputs": [],
   "source": [
    "import pickle as pkl"
   ]
  },
  {
   "cell_type": "code",
   "execution_count": 2,
   "metadata": {},
   "outputs": [],
   "source": [
    "import glob"
   ]
  },
  {
   "cell_type": "code",
   "execution_count": 3,
   "metadata": {},
   "outputs": [
    {
     "name": "stdout",
     "output_type": "stream",
     "text": [
      "/code/Dropbox/Oyla Dropbox/Oyla/02 Technical/10 Data/44x33/oyla_1_camera_v2\n"
     ]
    }
   ],
   "source": [
    "cd /code//Dropbox/Oyla\\ Dropbox/Oyla/02\\ Technical/10\\ Data/44x33/oyla_1_camera_v2/"
   ]
  },
  {
   "cell_type": "code",
   "execution_count": 32,
   "metadata": {},
   "outputs": [],
   "source": [
    "dirs = glob.glob('31_Mar_data_March_31_20_00_44/oyla_output*')"
   ]
  },
  {
   "cell_type": "code",
   "execution_count": 33,
   "metadata": {},
   "outputs": [],
   "source": [
    "res = {}\n",
    "for d in dirs:\n",
    "    if d.split('/')[1] == 'oyla_output_cds_outliers'  or d.split('/')[1] == 'oyla_output_cds_pclMedian_outliers' or d.split('/')[1]== 'oyla_output_cds_pclWA_outliers' or d.split('/')[1] == 'oyla_output_cds_spatialMedian_edge' or d.split('/')[1]== 'oyla_output_cds_spatailMedian_outliers' or d.split('/')[1] =='oyla_output_cds_temporalMedian_outliers' or d.split('/')[1] =='oyla_output_cds_temporalMedian_spatialMedian_outliers':\n",
    "        continue\n",
    "    res[d] = 0\n",
    "    try:\n",
    "        with open(d+'/yolo.pkl','rb') as fp:\n",
    "            data = pkl.load(fp)\n",
    "        for k in data.keys():\n",
    "            for _d in data[k]:\n",
    "                if 'person' in _d:\n",
    "                    res[d] += 1\n",
    "    except FileNotFoundError:\n",
    "        pass"
   ]
  },
  {
   "cell_type": "code",
   "execution_count": 34,
   "metadata": {},
   "outputs": [
    {
     "data": {
      "text/plain": [
       "{'31_Mar_data_March_31_20_00_44/oyla_output': 2455,\n",
       " '31_Mar_data_March_31_20_00_44/oyla_output_cds': 2407,\n",
       " '31_Mar_data_March_31_20_00_44/oyla_output_dus': 2628,\n",
       " '31_Mar_data_March_31_20_00_44/oyla_output_dus_ergb': 2169,\n",
       " '31_Mar_data_March_31_20_00_44/oyla_output_cds_ergb': 2220,\n",
       " '31_Mar_data_March_31_20_00_44/oyla_output_cds_temporalMedian_spatialMedian_outliers_ergb': 2323,\n",
       " '31_Mar_data_March_31_20_00_44/oyla_output_cds_outliers_ergb': 2260,\n",
       " '31_Mar_data_March_31_20_00_44/oyla_output_cds_pclMedian_outliers_ergb': 2243,\n",
       " '31_Mar_data_March_31_20_00_44/oyla_output_cds_pclWA_outliers_ergb': 2262,\n",
       " '31_Mar_data_March_31_20_00_44/oyla_output_cds_spatialMedian_edge_ergb': 2328,\n",
       " '31_Mar_data_March_31_20_00_44/oyla_output_cds_spatailMedian_outliers_ergb': 2335,\n",
       " '31_Mar_data_March_31_20_00_44/oyla_output_cds_temporalMedian_outliers_ergb': 2167}"
      ]
     },
     "execution_count": 34,
     "metadata": {},
     "output_type": "execute_result"
    }
   ],
   "source": [
    "res"
   ]
  },
  {
   "cell_type": "code",
   "execution_count": 35,
   "metadata": {},
   "outputs": [
    {
     "data": {
      "text/plain": [
       "{'31_Mar_data_March_31_20_00_44/oyla_output_cds_temporalMedian_outliers_ergb': 2167,\n",
       " '31_Mar_data_March_31_20_00_44/oyla_output_dus_ergb': 2169,\n",
       " '31_Mar_data_March_31_20_00_44/oyla_output_cds_ergb': 2220,\n",
       " '31_Mar_data_March_31_20_00_44/oyla_output_cds_pclMedian_outliers_ergb': 2243,\n",
       " '31_Mar_data_March_31_20_00_44/oyla_output_cds_outliers_ergb': 2260,\n",
       " '31_Mar_data_March_31_20_00_44/oyla_output_cds_pclWA_outliers_ergb': 2262,\n",
       " '31_Mar_data_March_31_20_00_44/oyla_output_cds_temporalMedian_spatialMedian_outliers_ergb': 2323,\n",
       " '31_Mar_data_March_31_20_00_44/oyla_output_cds_spatialMedian_edge_ergb': 2328,\n",
       " '31_Mar_data_March_31_20_00_44/oyla_output_cds_spatailMedian_outliers_ergb': 2335,\n",
       " '31_Mar_data_March_31_20_00_44/oyla_output_cds': 2407,\n",
       " '31_Mar_data_March_31_20_00_44/oyla_output': 2455,\n",
       " '31_Mar_data_March_31_20_00_44/oyla_output_dus': 2628}"
      ]
     },
     "execution_count": 35,
     "metadata": {},
     "output_type": "execute_result"
    }
   ],
   "source": [
    "{k: v for k, v in sorted(res.items(), key=lambda item: item[1])}\n"
   ]
  },
  {
   "cell_type": "code",
   "execution_count": 36,
   "metadata": {},
   "outputs": [],
   "source": [
    "dirs = glob.glob('31_Mar_data_March_31_19_25_36/oyla_output*')"
   ]
  },
  {
   "cell_type": "code",
   "execution_count": 37,
   "metadata": {},
   "outputs": [],
   "source": [
    "res = {}\n",
    "for d in dirs:\n",
    "    if d.split('/')[1] == 'oyla_output_cds_outliers'  or d.split('/')[1] == 'oyla_output_cds_pclMedian_outliers' or d.split('/')[1]== 'oyla_output_cds_pclWA_outliers' or d.split('/')[1] == 'oyla_output_cds_spatialMedian_edge' or d.split('/')[1]== 'oyla_output_cds_spatailMedian_outliers' or d.split('/')[1] =='oyla_output_cds_temporalMedian_outliers' or d.split('/')[1] =='oyla_output_cds_temporalMedian_spatialMedian_outliers':\n",
    "        continue\n",
    "    res[d] = 0\n",
    "    try:\n",
    "        with open(d+'/yolo.pkl','rb') as fp:\n",
    "            data = pkl.load(fp)\n",
    "        for k in data.keys():\n",
    "            for _d in data[k]:\n",
    "                if 'person' in _d:\n",
    "                    res[d] += 1\n",
    "    except FileNotFoundError:\n",
    "        pass"
   ]
  },
  {
   "cell_type": "code",
   "execution_count": 38,
   "metadata": {},
   "outputs": [
    {
     "data": {
      "text/plain": [
       "{'31_Mar_data_March_31_19_25_36/oyla_output': 2510,\n",
       " '31_Mar_data_March_31_19_25_36/oyla_output_cds': 2539,\n",
       " '31_Mar_data_March_31_19_25_36/oyla_output_dus': 2587,\n",
       " '31_Mar_data_March_31_19_25_36/oyla_output_dus_ergb': 2397,\n",
       " '31_Mar_data_March_31_19_25_36/oyla_output_cds_ergb': 2439,\n",
       " '31_Mar_data_March_31_19_25_36/oyla_output_cds_temporalMedian_spatialMedian_outliers_ergb': 2640,\n",
       " '31_Mar_data_March_31_19_25_36/oyla_output_cds_outliers_ergb': 0,\n",
       " '31_Mar_data_March_31_19_25_36/oyla_output_cds_pclMedian_outliers_ergb': 0,\n",
       " '31_Mar_data_March_31_19_25_36/oyla_output_cds_pclWA_outliers_ergb': 0,\n",
       " '31_Mar_data_March_31_19_25_36/oyla_output_cds_spatialMedian_edge_ergb': 0,\n",
       " '31_Mar_data_March_31_19_25_36/oyla_output_cds_spatailMedian_outliers_ergb': 0,\n",
       " '31_Mar_data_March_31_19_25_36/oyla_output_cds_temporalMedian_outliers_ergb': 0}"
      ]
     },
     "execution_count": 38,
     "metadata": {},
     "output_type": "execute_result"
    }
   ],
   "source": [
    "res"
   ]
  },
  {
   "cell_type": "code",
   "execution_count": 39,
   "metadata": {},
   "outputs": [
    {
     "data": {
      "text/plain": [
       "{'31_Mar_data_March_31_19_25_36/oyla_output_cds_outliers_ergb': 0,\n",
       " '31_Mar_data_March_31_19_25_36/oyla_output_cds_pclMedian_outliers_ergb': 0,\n",
       " '31_Mar_data_March_31_19_25_36/oyla_output_cds_pclWA_outliers_ergb': 0,\n",
       " '31_Mar_data_March_31_19_25_36/oyla_output_cds_spatialMedian_edge_ergb': 0,\n",
       " '31_Mar_data_March_31_19_25_36/oyla_output_cds_spatailMedian_outliers_ergb': 0,\n",
       " '31_Mar_data_March_31_19_25_36/oyla_output_cds_temporalMedian_outliers_ergb': 0,\n",
       " '31_Mar_data_March_31_19_25_36/oyla_output_dus_ergb': 2397,\n",
       " '31_Mar_data_March_31_19_25_36/oyla_output_cds_ergb': 2439,\n",
       " '31_Mar_data_March_31_19_25_36/oyla_output': 2510,\n",
       " '31_Mar_data_March_31_19_25_36/oyla_output_cds': 2539,\n",
       " '31_Mar_data_March_31_19_25_36/oyla_output_dus': 2587,\n",
       " '31_Mar_data_March_31_19_25_36/oyla_output_cds_temporalMedian_spatialMedian_outliers_ergb': 2640}"
      ]
     },
     "execution_count": 39,
     "metadata": {},
     "output_type": "execute_result"
    }
   ],
   "source": [
    "{k: v for k, v in sorted(res.items(), key=lambda item: item[1])}\n"
   ]
  },
  {
   "cell_type": "code",
   "execution_count": 40,
   "metadata": {},
   "outputs": [],
   "source": [
    "dirs = glob.glob('07_Feb_data_February_07_18_54_22//oyla_output*')"
   ]
  },
  {
   "cell_type": "code",
   "execution_count": 41,
   "metadata": {},
   "outputs": [],
   "source": [
    "res = {}\n",
    "for d in dirs:\n",
    "    if d.split('/')[1] == 'oyla_output_cds_outliers'  or d.split('/')[1] == 'oyla_output_cds_pclMedian_outliers' or d.split('/')[1]== 'oyla_output_cds_pclWA_outliers' or d.split('/')[1] == 'oyla_output_cds_spatialMedian_edge' or d.split('/')[1]== 'oyla_output_cds_spatailMedian_outliers' or d.split('/')[1] =='oyla_output_cds_temporalMedian_outliers' or d.split('/')[1] =='oyla_output_cds_temporalMedian_spatialMedian_outliers':\n",
    "        continue\n",
    "    res[d] = 0\n",
    "    try:\n",
    "        with open(d+'/yolo.pkl','rb') as fp:\n",
    "            data = pkl.load(fp)\n",
    "        for k in data.keys():\n",
    "            for _d in data[k]:\n",
    "                if 'person' in _d:\n",
    "                    res[d] += 1\n",
    "    except FileNotFoundError:\n",
    "        pass"
   ]
  },
  {
   "cell_type": "code",
   "execution_count": 42,
   "metadata": {},
   "outputs": [
    {
     "data": {
      "text/plain": [
       "{'07_Feb_data_February_07_18_54_22/oyla_output': 832,\n",
       " '07_Feb_data_February_07_18_54_22/oyla_output_cds': 808,\n",
       " '07_Feb_data_February_07_18_54_22/oyla_output_dus': 870,\n",
       " '07_Feb_data_February_07_18_54_22/oyla_output_dus_ergb': 1114,\n",
       " '07_Feb_data_February_07_18_54_22/oyla_output_cds_ergb': 1167,\n",
       " '07_Feb_data_February_07_18_54_22/oyla_output_cds_temporalMedian_spatialMedian_outliers_ergb': 1070,\n",
       " '07_Feb_data_February_07_18_54_22/oyla_output_cds_outliers_ergb': 1169,\n",
       " '07_Feb_data_February_07_18_54_22/oyla_output_cds_pclMedian_outliers_ergb': 1153,\n",
       " '07_Feb_data_February_07_18_54_22/oyla_output_cds_pclWA_outliers_ergb': 1169,\n",
       " '07_Feb_data_February_07_18_54_22/oyla_output_cds_spatialMedian_edge_ergb': 1153,\n",
       " '07_Feb_data_February_07_18_54_22/oyla_output_cds_spatailMedian_outliers_ergb': 1132,\n",
       " '07_Feb_data_February_07_18_54_22/oyla_output_cds_temporalMedian_outliers_ergb': 1089}"
      ]
     },
     "execution_count": 42,
     "metadata": {},
     "output_type": "execute_result"
    }
   ],
   "source": [
    "res"
   ]
  },
  {
   "cell_type": "code",
   "execution_count": 43,
   "metadata": {},
   "outputs": [
    {
     "data": {
      "text/plain": [
       "{'07_Feb_data_February_07_18_54_22/oyla_output_cds': 808,\n",
       " '07_Feb_data_February_07_18_54_22/oyla_output': 832,\n",
       " '07_Feb_data_February_07_18_54_22/oyla_output_dus': 870,\n",
       " '07_Feb_data_February_07_18_54_22/oyla_output_cds_temporalMedian_spatialMedian_outliers_ergb': 1070,\n",
       " '07_Feb_data_February_07_18_54_22/oyla_output_cds_temporalMedian_outliers_ergb': 1089,\n",
       " '07_Feb_data_February_07_18_54_22/oyla_output_dus_ergb': 1114,\n",
       " '07_Feb_data_February_07_18_54_22/oyla_output_cds_spatailMedian_outliers_ergb': 1132,\n",
       " '07_Feb_data_February_07_18_54_22/oyla_output_cds_pclMedian_outliers_ergb': 1153,\n",
       " '07_Feb_data_February_07_18_54_22/oyla_output_cds_spatialMedian_edge_ergb': 1153,\n",
       " '07_Feb_data_February_07_18_54_22/oyla_output_cds_ergb': 1167,\n",
       " '07_Feb_data_February_07_18_54_22/oyla_output_cds_outliers_ergb': 1169,\n",
       " '07_Feb_data_February_07_18_54_22/oyla_output_cds_pclWA_outliers_ergb': 1169}"
      ]
     },
     "execution_count": 43,
     "metadata": {},
     "output_type": "execute_result"
    }
   ],
   "source": [
    "{k: v for k, v in sorted(res.items(), key=lambda item: item[1])}\n"
   ]
  },
  {
   "cell_type": "code",
   "execution_count": 26,
   "metadata": {},
   "outputs": [],
   "source": [
    "dirs = glob.glob('08_Feb_data_February_08_05_41_43/oyla_output*')\n"
   ]
  },
  {
   "cell_type": "code",
   "execution_count": 29,
   "metadata": {},
   "outputs": [],
   "source": [
    "res = {}\n",
    "for d in dirs:\n",
    "    if d.split('/')[1] == 'oyla_output_cds_outliers'  or d.split('/')[1] == 'oyla_output_cds_pclMedian_outliers' or d.split('/')[1]== 'oyla_output_cds_pclWA_outliers' or d.split('/')[1] == 'oyla_output_cds_spatialMedian_edge' or d.split('/')[1]== 'oyla_output_cds_spatailMedian_outliers' or d.split('/')[1] =='oyla_output_cds_temporalMedian_outliers' or d.split('/')[1] =='oyla_output_cds_temporalMedian_spatialMedian_outliers':\n",
    "        continue\n",
    "    res[d] = 0\n",
    "    try:\n",
    "        with open(d+'/yolo.pkl','rb') as fp:\n",
    "            data = pkl.load(fp)\n",
    "        for k in data.keys():\n",
    "            for _d in data[k]:\n",
    "                if 'person' in _d:\n",
    "                    res[d] += 1\n",
    "    except FileNotFoundError:\n",
    "        pass"
   ]
  },
  {
   "cell_type": "code",
   "execution_count": 30,
   "metadata": {},
   "outputs": [
    {
     "data": {
      "text/plain": [
       "{'08_Feb_data_February_08_05_41_43/oyla_output_dus': 417,\n",
       " '08_Feb_data_February_08_05_41_43/oyla_output': 393,\n",
       " '08_Feb_data_February_08_05_41_43/oyla_output_cds': 388,\n",
       " '08_Feb_data_February_08_05_41_43/oyla_output_dus_ergb': 661,\n",
       " '08_Feb_data_February_08_05_41_43/oyla_output_cds_ergb': 647,\n",
       " '08_Feb_data_February_08_05_41_43/oyla_output_cds_temporalMedian_spatialMedian_outliers_ergb': 598,\n",
       " '08_Feb_data_February_08_05_41_43/oyla_output_cds_outliers_ergb': 648,\n",
       " '08_Feb_data_February_08_05_41_43/oyla_output_cds_pclMedian_outliers_ergb': 652,\n",
       " '08_Feb_data_February_08_05_41_43/oyla_output_cds_pclWA_outliers_ergb': 647,\n",
       " '08_Feb_data_February_08_05_41_43/oyla_output_cds_spatialMedian_edge_ergb': 598,\n",
       " '08_Feb_data_February_08_05_41_43/oyla_output_cds_spatailMedian_outliers_ergb': 600,\n",
       " '08_Feb_data_February_08_05_41_43/oyla_output_cds_temporalMedian_outliers_ergb': 639}"
      ]
     },
     "execution_count": 30,
     "metadata": {},
     "output_type": "execute_result"
    }
   ],
   "source": [
    "res"
   ]
  },
  {
   "cell_type": "code",
   "execution_count": 31,
   "metadata": {},
   "outputs": [
    {
     "data": {
      "text/plain": [
       "{'08_Feb_data_February_08_05_41_43/oyla_output_cds': 388,\n",
       " '08_Feb_data_February_08_05_41_43/oyla_output': 393,\n",
       " '08_Feb_data_February_08_05_41_43/oyla_output_dus': 417,\n",
       " '08_Feb_data_February_08_05_41_43/oyla_output_cds_temporalMedian_spatialMedian_outliers_ergb': 598,\n",
       " '08_Feb_data_February_08_05_41_43/oyla_output_cds_spatialMedian_edge_ergb': 598,\n",
       " '08_Feb_data_February_08_05_41_43/oyla_output_cds_spatailMedian_outliers_ergb': 600,\n",
       " '08_Feb_data_February_08_05_41_43/oyla_output_cds_temporalMedian_outliers_ergb': 639,\n",
       " '08_Feb_data_February_08_05_41_43/oyla_output_cds_ergb': 647,\n",
       " '08_Feb_data_February_08_05_41_43/oyla_output_cds_pclWA_outliers_ergb': 647,\n",
       " '08_Feb_data_February_08_05_41_43/oyla_output_cds_outliers_ergb': 648,\n",
       " '08_Feb_data_February_08_05_41_43/oyla_output_cds_pclMedian_outliers_ergb': 652,\n",
       " '08_Feb_data_February_08_05_41_43/oyla_output_dus_ergb': 661}"
      ]
     },
     "execution_count": 31,
     "metadata": {},
     "output_type": "execute_result"
    }
   ],
   "source": [
    "{k: v for k, v in sorted(res.items(), key=lambda item: item[1])}\n"
   ]
  },
  {
   "cell_type": "code",
   "execution_count": null,
   "metadata": {},
   "outputs": [],
   "source": []
  }
 ],
 "metadata": {
  "kernelspec": {
   "display_name": "Python 3",
   "language": "python",
   "name": "python3"
  },
  "language_info": {
   "codemirror_mode": {
    "name": "ipython",
    "version": 3
   },
   "file_extension": ".py",
   "mimetype": "text/x-python",
   "name": "python",
   "nbconvert_exporter": "python",
   "pygments_lexer": "ipython3",
   "version": "3.6.6"
  }
 },
 "nbformat": 4,
 "nbformat_minor": 2
}
