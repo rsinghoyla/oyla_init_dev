{
 "cells": [
  {
   "cell_type": "code",
   "execution_count": 3,
   "metadata": {},
   "outputs": [],
   "source": [
    "import sys\n",
    "\n",
    "sys.path.append('/Users/rsingh/Oyla/Work/our_python_dev/')"
   ]
  },
  {
   "cell_type": "code",
   "execution_count": 4,
   "metadata": {},
   "outputs": [],
   "source": [
    "from oyla.mvc.utils import rgb_depth_view_matching"
   ]
  },
  {
   "cell_type": "code",
   "execution_count": 5,
   "metadata": {},
   "outputs": [],
   "source": [
    "import numpy as np\n",
    "import scipy.io\n",
    "import cv2\n",
    "\n",
    "import matplotlib.pyplot as plt\n",
    "\n",
    "%matplotlib inline"
   ]
  },
  {
   "cell_type": "code",
   "execution_count": 6,
   "metadata": {},
   "outputs": [],
   "source": [
    "def rgba2rgb(source):\n",
    "    target = np.zeros((source.shape[0],source.shape[1],3))\n",
    "    bg =[0.5,0.5,0.5]*2\n",
    "    for i in range(3):\n",
    "         target[:,:,i] = ((1 - source[:,:,3]) * bg[i]) + (source[:,:,3] * source[:,:,i])\n",
    "    return target"
   ]
  },
  {
   "cell_type": "code",
   "execution_count": 6,
   "metadata": {},
   "outputs": [],
   "source": [
    "dir_path='/Users/rsingh/Oyla Dropbox/Oyla/02 Technical/10 Data/Oct 16 - RG visit Set 3/22_data_October_16_19_55_05/'"
   ]
  },
  {
   "cell_type": "code",
   "execution_count": 2,
   "metadata": {},
   "outputs": [
    {
     "ename": "NameError",
     "evalue": "name 'scipy' is not defined",
     "output_type": "error",
     "traceback": [
      "\u001b[0;31m---------------------------------------------------------------------------\u001b[0m",
      "\u001b[0;31mNameError\u001b[0m                                 Traceback (most recent call last)",
      "\u001b[0;32m<ipython-input-2-fcf2727d8b2f>\u001b[0m in \u001b[0;36m<module>\u001b[0;34m\u001b[0m\n\u001b[1;32m      1\u001b[0m \u001b[0;32mfor\u001b[0m \u001b[0mindex\u001b[0m \u001b[0;32min\u001b[0m \u001b[0mrange\u001b[0m\u001b[0;34m(\u001b[0m\u001b[0;36m500\u001b[0m\u001b[0;34m)\u001b[0m\u001b[0;34m:\u001b[0m\u001b[0;34m\u001b[0m\u001b[0;34m\u001b[0m\u001b[0m\n\u001b[0;32m----> 2\u001b[0;31m     \u001b[0mrgb\u001b[0m \u001b[0;34m=\u001b[0m \u001b[0mscipy\u001b[0m\u001b[0;34m.\u001b[0m\u001b[0mio\u001b[0m\u001b[0;34m.\u001b[0m\u001b[0mloadmat\u001b[0m\u001b[0;34m(\u001b[0m\u001b[0mdir_path\u001b[0m\u001b[0;34m+\u001b[0m\u001b[0;34m'/data_c_'\u001b[0m\u001b[0;34m+\u001b[0m\u001b[0mstr\u001b[0m\u001b[0;34m(\u001b[0m\u001b[0mindex\u001b[0m\u001b[0;34m)\u001b[0m\u001b[0;34m+\u001b[0m\u001b[0;34m'.mat'\u001b[0m\u001b[0;34m)\u001b[0m\u001b[0;34m\u001b[0m\u001b[0;34m\u001b[0m\u001b[0m\n\u001b[0m\u001b[1;32m      3\u001b[0m \u001b[0;34m\u001b[0m\u001b[0m\n\u001b[1;32m      4\u001b[0m     \u001b[0mrgb\u001b[0m \u001b[0;34m=\u001b[0m \u001b[0mrgb\u001b[0m\u001b[0;34m[\u001b[0m\u001b[0;34m'data'\u001b[0m\u001b[0;34m]\u001b[0m\u001b[0;34m[\u001b[0m\u001b[0;36m0\u001b[0m\u001b[0;34m]\u001b[0m\u001b[0;34m[\u001b[0m\u001b[0;36m4\u001b[0m\u001b[0;34m]\u001b[0m\u001b[0;34m\u001b[0m\u001b[0;34m\u001b[0m\u001b[0m\n\u001b[1;32m      5\u001b[0m \u001b[0;34m\u001b[0m\u001b[0m\n",
      "\u001b[0;31mNameError\u001b[0m: name 'scipy' is not defined"
     ]
    }
   ],
   "source": [
    "for index in range(500):\n",
    "    rgb = scipy.io.loadmat(dir_path+'/data_c_'+str(index)+'.mat')\n",
    "\n",
    "    rgb = rgb['data'][0][4]\n",
    "\n",
    "    rgb = rgb_depth_view_matching(rgb)\n",
    "    dist = np.fromfile(dir_path+'/imageDistance_c_'+str(index)+'.bin',np.uint16())\n",
    "    ampl = np.fromfile(dir_path+'/imageDistance_c_'+str(index)+'_ampl.bin',np.uint16())\n",
    "    _rgb = cv2.resize(rgb,None,fx=120/212,fy=120/212)\n",
    "    dist = dist.reshape(120,320)\n",
    "    ampl = ampl.reshape(120,320)\n",
    "    im = np.zeros((120,320,4))\n",
    "    im[:,:,:3]=_rgb/255.0\n",
    "    dist[ampl>1500]=0\n",
    "    dist[dist>15000] = 0\n",
    "    alpha = dist/np.max(dist)\n",
    "    im[:,:,3] = 1-alpha\n",
    "    _im = rgba2rgb(im)\n",
    "    __im = np.rint(_im*255).astype('uint8')\n",
    "    cv2.imwrite(dir_path+'/kitti/2d/ergb1/oyla_'+str(index)+'.png',__im)"
   ]
  },
  {
   "cell_type": "code",
   "execution_count": 9,
   "metadata": {},
   "outputs": [],
   "source": [
    "for index in range(500):\n",
    "    rgb = scipy.io.loadmat(dir_path+'/data_c_'+str(index)+'.mat')\n",
    "\n",
    "    rgb = rgb['data'][0][4]\n",
    "\n",
    "    rgb = rgb_depth_view_matching(rgb)\n",
    "    dist = np.fromfile(dir_path+'/imageDistance_c_'+str(index)+'.bin',np.uint16())\n",
    "    ampl = np.fromfile(dir_path+'/imageDistance_c_'+str(index)+'_ampl.bin',np.uint16())\n",
    "    _rgb = cv2.resize(rgb,None,fx=120/212,fy=120/212)\n",
    "    dist = dist.reshape(120,320)\n",
    "    ampl = ampl.reshape(120,320)\n",
    "    im = np.zeros((120,320,4))\n",
    "    im[:,:,:3]=_rgb/255.0\n",
    "    #dist[ampl>1500]=0\n",
    "    #dist[dist>15000] = 0\n",
    "    alpha = dist/np.max(dist)\n",
    "    im[:,:,3] = 1-alpha\n",
    "    _im = rgba2rgb(im)\n",
    "    __im = np.rint(_im*255).astype('uint8')\n",
    "    cv2.imwrite(dir_path+'/kitti/2d/ergb2/oyla_'+str(index)+'.png',__im)"
   ]
  },
  {
   "cell_type": "code",
   "execution_count": 7,
   "metadata": {},
   "outputs": [],
   "source": [
    "sys.path.append('/Users/rsingh/Packages/closed-form-matting//')"
   ]
  },
  {
   "cell_type": "code",
   "execution_count": 8,
   "metadata": {},
   "outputs": [],
   "source": [
    "from solve_foreground_background import solve_foreground_background\n",
    "import closed_form_matting"
   ]
  },
  {
   "cell_type": "code",
   "execution_count": 14,
   "metadata": {},
   "outputs": [],
   "source": [
    "import os"
   ]
  },
  {
   "cell_type": "code",
   "execution_count": 19,
   "metadata": {},
   "outputs": [],
   "source": [
    "os.makedirs(dir_path+'/kitti/2d/ergb3')\n",
    "for index in range(500):\n",
    "    rgb = scipy.io.loadmat(dir_path+'/data_c_'+str(index)+'.mat')\n",
    "\n",
    "    rgb = rgb['data'][0][4]\n",
    "\n",
    "    rgb = rgb_depth_view_matching(rgb)\n",
    "    dist = np.fromfile(dir_path+'/imageDistance_c_'+str(index)+'.bin',np.uint16())\n",
    "    ampl = np.fromfile(dir_path+'/imageDistance_c_'+str(index)+'_ampl.bin',np.uint16())\n",
    "    _rgb = cv2.resize(rgb,None,fx=120/212,fy=120/212)\n",
    "    dist = dist.reshape(120,320)\n",
    "    ampl = ampl.reshape(120,320)\n",
    "    trimap = dist.copy()\n",
    "    trimap = trimap.astype('float32')\n",
    "    trimap[ampl>65300] = 0.5\n",
    "    trimap[ampl<65300] = 1\n",
    "    trimap[ampl==65300] = 0\n",
    "    alpha = closed_form_matting.closed_form_matting_with_trimap(_rgb, trimap)\n",
    "    foreground, background = solve_foreground_background(_rgb, alpha)\n",
    "    beta = alpha.copy()\n",
    "    #beta[dist==0] = beta[dist==0]/2\n",
    "    beta[ampl>=1500] = 0\n",
    "    beta[ampl<1500]  = 1\n",
    "    J = 0*foreground\n",
    "    for i in range(3):\n",
    "        J[:,:,i] = beta*foreground[:,:,i]+(1-beta)*background[:,:,i]\n",
    "    J = J-np.min(J)\n",
    "    J = J/np.max(J)\n",
    "    #cv2.imwrite(dir_path+'/kitti/2d/ergb3/oyla_'+str(index)+'.png',cv2.cvtColor((J*255).astype('uint8'),cv2.COLOR_BGR2RGB))\n",
    "    plt.imsave(dir_path+'/kitti/2d/ergb3/oyla_'+str(index)+'.png',(J*255).astype('uint8'))"
   ]
  },
  {
   "cell_type": "code",
   "execution_count": null,
   "metadata": {},
   "outputs": [],
   "source": []
  }
 ],
 "metadata": {
  "kernelspec": {
   "display_name": "Python 3",
   "language": "python",
   "name": "python3"
  },
  "language_info": {
   "codemirror_mode": {
    "name": "ipython",
    "version": 3
   },
   "file_extension": ".py",
   "mimetype": "text/x-python",
   "name": "python",
   "nbconvert_exporter": "python",
   "pygments_lexer": "ipython3",
   "version": "3.7.3"
  }
 },
 "nbformat": 4,
 "nbformat_minor": 2
}
