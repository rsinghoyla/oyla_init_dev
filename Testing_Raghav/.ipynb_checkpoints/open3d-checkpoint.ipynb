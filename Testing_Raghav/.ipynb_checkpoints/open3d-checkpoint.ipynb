{
 "cells": [
  {
   "cell_type": "code",
   "execution_count": 1,
   "metadata": {},
   "outputs": [],
   "source": [
    "import glob\n",
    "\n",
    "import os\n",
    "import scipy.stats"
   ]
  },
  {
   "cell_type": "code",
   "execution_count": 2,
   "metadata": {},
   "outputs": [],
   "source": [
    "import sys\n",
    "sys.path.append('/Users/rsingh/Oyla/Work/our_python_dev/')"
   ]
  },
  {
   "cell_type": "code",
   "execution_count": 3,
   "metadata": {},
   "outputs": [],
   "source": [
    "import open3d as o3d\n",
    "import numpy as np\n",
    "from matplotlib import cm\n",
    "import matplotlib.pyplot as plt\n",
    "%matplotlib inline\n",
    "from oyla.mvc.utils import *"
   ]
  },
  {
   "cell_type": "code",
   "execution_count": 14,
   "metadata": {},
   "outputs": [],
   "source": [
    "    dir_path='/Users/rsingh/Oyla Dropbox/Oyla/02 Technical/'+'10 Data/44x33/02_Jan_data_January_02_17_04_03/filtered_data_January_15_04_33_06////'"
   ]
  },
  {
   "cell_type": "code",
   "execution_count": 15,
   "metadata": {},
   "outputs": [
    {
     "name": "stdout",
     "output_type": "stream",
     "text": [
      "dict_keys(['Section', 'Type', 'Key', 'Argument Format', 'Value', 'Command Group', 'Description'])\n",
      "morphological_filter\n",
      "{'edge_detection': 0, 'edge_detection_thresholds': 10, 'gauss_filter': 0, 'gauss_filter_iterations': 1, 'gauss_filter_size': 3, 'morphological_filter': 1, 'morphological_filter_size': 15, 'l0_gradient_filter': 0, 'masked_median_filter': 0, 'masked_median_filter_iterations': 3, 'masked_median_filter_size': 3, 'median_filter': 0, 'median_filter_iterations': 3, 'median_filter_size': 3, 'bilateral_filter': 0, 'bilateral_filter_iterations': 1, 'bilateral_filter_size': 3, 'jointbilateral_filter': 0, 'jointbilateral_filter_iterations': 1, 'jointbilateral_filter_size': 3, 'guided_filter': 0, 'guided_filter_iterations': 0, 'guided_filter_size': 3, 'guided_filter_std_range': 100, 'wavelet_GraceVet_filter': 0}\n"
     ]
    }
   ],
   "source": [
    "filter_parameters = read_csv_parameters(dir_path+\"/filter_params.csv\")\n",
    "#print(filter_parameters)\n",
    "filter_params = {}\n",
    "for k in filter_parameters['filter_cmd'].keys():\n",
    "        #print(parameters['filter_cmd'][k][self.epoch_number])\n",
    "        try:\n",
    "                filter_params[k] = int(filter_parameters['filter_cmd'][k][0])\n",
    "                #parameters['filter_cmd'][k][0] = filter_parameters['filter_cmd'][k][0]\n",
    "                if int(filter_parameters['filter_cmd'][k][0]) == 1 and 'iterations' not in k and 'size' not in k:\n",
    "                    print(k)\n",
    "        except ValueError:\n",
    "                pass\n",
    "print(filter_params)"
   ]
  },
  {
   "cell_type": "code",
   "execution_count": 16,
   "metadata": {},
   "outputs": [],
   "source": [
    "pcd = o3d.io.read_point_cloud(os.path.join(dir_path,'kitti_r1000-800-44x33/')+'/3d/oyla_2.xyz',format='xyz')"
   ]
  },
  {
   "cell_type": "code",
   "execution_count": 17,
   "metadata": {},
   "outputs": [
    {
     "name": "stdout",
     "output_type": "stream",
     "text": [
      "[[-204.8834    -86.373276  903.1181  ]\n",
      " [-205.06789   -84.03515   903.5747  ]\n",
      " [-205.25026   -81.69584   904.0261  ]\n",
      " ...\n",
      " [ 528.976      84.31627   919.59534 ]\n",
      " [ 527.5802     86.82302   916.1166  ]\n",
      " [ 488.77597    92.44645   819.4052  ]]\n"
     ]
    }
   ],
   "source": [
    "print(np.asarray(pcd.points))"
   ]
  },
  {
   "cell_type": "code",
   "execution_count": 18,
   "metadata": {},
   "outputs": [
    {
     "data": {
      "image/png": "[encoded data removed]",
      "text/plain": [
       "<Figure size 432x288 with 1 Axes>"
      ]
     },
     "metadata": {
      "needs_background": "light"
     },
     "output_type": "display_data"
    }
   ],
   "source": [
    "z = np.asarray(pcd.points)[:,2]\n",
    "_=plt.hist(z,100)"
   ]
  },
  {
   "cell_type": "code",
   "execution_count": 19,
   "metadata": {},
   "outputs": [
    {
     "name": "stdout",
     "output_type": "stream",
     "text": [
      "230\n",
      "-2.8420776919766264\n",
      "21.656099199892182\n",
      "13.578693592660994\n"
     ]
    }
   ],
   "source": [
    "print(np.count_nonzero(z<850))\n",
    "print(scipy.stats.skew(z))\n",
    "print(scipy.stats.kurtosis(z))\n",
    "print(scipy.stats.kurtosis(z)-scipy.stats.skew(z)*scipy.stats.skew(z))"
   ]
  },
  {
   "cell_type": "code",
   "execution_count": 20,
   "metadata": {},
   "outputs": [],
   "source": [
    "o3d.visualization.draw_geometries([pcd])"
   ]
  },
  {
   "cell_type": "code",
   "execution_count": 21,
   "metadata": {},
   "outputs": [
    {
     "data": {
      "text/plain": [
       "geometry::PointCloud with 26799 points."
      ]
     },
     "execution_count": 21,
     "metadata": {},
     "output_type": "execute_result"
    }
   ],
   "source": [
    "pcd.paint_uniform_color([0.5, 0.5, 0.5])"
   ]
  },
  {
   "cell_type": "code",
   "execution_count": 26,
   "metadata": {},
   "outputs": [
    {
     "name": "stdout",
     "output_type": "stream",
     "text": [
      "geometry::PointCloud with 26799 points.\n",
      "8761\n",
      "geometry::PointCloud with 18038 points.\n"
     ]
    }
   ],
   "source": [
    "outlier_cloud = pcd\n",
    "inlier_clouds = []\n",
    "n = 1\n",
    "for i in range(n):\n",
    "    print(outlier_cloud)\n",
    "    plane_model, _inliers = outlier_cloud.segment_plane(distance_threshold=1.5,\n",
    "                                                 ransac_n=3,\n",
    "                                                 num_iterations=100)\n",
    "    print(len(_inliers))\n",
    "\n",
    "    inlier_cloud = outlier_cloud.select_down_sample(_inliers)\n",
    "    inlier_cloud.paint_uniform_color(cm.get_cmap('jet')(i*255//n)[:3])\n",
    "    inlier_clouds.append(inlier_cloud)\n",
    "    outlier_cloud = outlier_cloud.select_down_sample(_inliers, invert=True)\n",
    "    print(outlier_cloud)\n",
    "\n",
    "inlier_clouds.append(outlier_cloud)\n"
   ]
  },
  {
   "cell_type": "code",
   "execution_count": 23,
   "metadata": {},
   "outputs": [
    {
     "name": "stdout",
     "output_type": "stream",
     "text": [
      "geometry::PointCloud with 26799 points.\n",
      "3143\n",
      "geometry::PointCloud with 23656 points.\n",
      "geometry::PointCloud with 23656 points.\n",
      "2597\n",
      "geometry::PointCloud with 21059 points.\n",
      "geometry::PointCloud with 21059 points.\n",
      "2163\n",
      "geometry::PointCloud with 18896 points.\n",
      "geometry::PointCloud with 18896 points.\n",
      "1582\n",
      "geometry::PointCloud with 17314 points.\n",
      "geometry::PointCloud with 17314 points.\n",
      "1448\n",
      "geometry::PointCloud with 15866 points.\n",
      "geometry::PointCloud with 15866 points.\n",
      "1298\n",
      "geometry::PointCloud with 14568 points.\n",
      "geometry::PointCloud with 14568 points.\n",
      "1058\n",
      "geometry::PointCloud with 13510 points.\n",
      "geometry::PointCloud with 13510 points.\n",
      "1023\n",
      "geometry::PointCloud with 12487 points.\n",
      "geometry::PointCloud with 12487 points.\n",
      "914\n",
      "geometry::PointCloud with 11573 points.\n",
      "geometry::PointCloud with 11573 points.\n",
      "597\n",
      "geometry::PointCloud with 10976 points.\n",
      "geometry::PointCloud with 10976 points.\n",
      "598\n",
      "geometry::PointCloud with 10378 points.\n",
      "geometry::PointCloud with 10378 points.\n",
      "715\n",
      "geometry::PointCloud with 9663 points.\n",
      "geometry::PointCloud with 9663 points.\n",
      "614\n",
      "geometry::PointCloud with 9049 points.\n",
      "geometry::PointCloud with 9049 points.\n",
      "553\n",
      "geometry::PointCloud with 8496 points.\n",
      "geometry::PointCloud with 8496 points.\n",
      "496\n",
      "geometry::PointCloud with 8000 points.\n",
      "geometry::PointCloud with 8000 points.\n",
      "436\n",
      "geometry::PointCloud with 7564 points.\n",
      "geometry::PointCloud with 7564 points.\n",
      "475\n",
      "geometry::PointCloud with 7089 points.\n",
      "geometry::PointCloud with 7089 points.\n",
      "333\n",
      "geometry::PointCloud with 6756 points.\n",
      "geometry::PointCloud with 6756 points.\n",
      "321\n",
      "geometry::PointCloud with 6435 points.\n",
      "geometry::PointCloud with 6435 points.\n",
      "360\n",
      "geometry::PointCloud with 6075 points.\n",
      "geometry::PointCloud with 6075 points.\n",
      "288\n",
      "geometry::PointCloud with 5787 points.\n",
      "geometry::PointCloud with 5787 points.\n",
      "263\n",
      "geometry::PointCloud with 5524 points.\n",
      "geometry::PointCloud with 5524 points.\n",
      "269\n",
      "geometry::PointCloud with 5255 points.\n",
      "geometry::PointCloud with 5255 points.\n",
      "240\n",
      "geometry::PointCloud with 5015 points.\n",
      "geometry::PointCloud with 5015 points.\n",
      "215\n",
      "geometry::PointCloud with 4800 points.\n",
      "geometry::PointCloud with 4800 points.\n",
      "250\n",
      "geometry::PointCloud with 4550 points.\n",
      "geometry::PointCloud with 4550 points.\n",
      "253\n",
      "geometry::PointCloud with 4297 points.\n",
      "geometry::PointCloud with 4297 points.\n",
      "202\n",
      "geometry::PointCloud with 4095 points.\n",
      "geometry::PointCloud with 4095 points.\n",
      "169\n",
      "geometry::PointCloud with 3926 points.\n",
      "geometry::PointCloud with 3926 points.\n",
      "193\n",
      "geometry::PointCloud with 3733 points.\n",
      "geometry::PointCloud with 3733 points.\n",
      "156\n",
      "geometry::PointCloud with 3577 points.\n",
      "geometry::PointCloud with 3577 points.\n",
      "171\n",
      "geometry::PointCloud with 3406 points.\n",
      "geometry::PointCloud with 3406 points.\n",
      "147\n",
      "geometry::PointCloud with 3259 points.\n",
      "geometry::PointCloud with 3259 points.\n",
      "197\n",
      "geometry::PointCloud with 3062 points.\n",
      "geometry::PointCloud with 3062 points.\n",
      "140\n",
      "geometry::PointCloud with 2922 points.\n",
      "geometry::PointCloud with 2922 points.\n",
      "140\n",
      "geometry::PointCloud with 2782 points.\n",
      "geometry::PointCloud with 2782 points.\n",
      "105\n",
      "geometry::PointCloud with 2677 points.\n",
      "geometry::PointCloud with 2677 points.\n",
      "111\n",
      "geometry::PointCloud with 2566 points.\n",
      "geometry::PointCloud with 2566 points.\n",
      "87\n",
      "geometry::PointCloud with 2479 points.\n",
      "geometry::PointCloud with 2479 points.\n",
      "93\n",
      "geometry::PointCloud with 2386 points.\n",
      "geometry::PointCloud with 2386 points.\n",
      "93\n",
      "geometry::PointCloud with 2293 points.\n",
      "geometry::PointCloud with 2293 points.\n",
      "94\n",
      "geometry::PointCloud with 2199 points.\n",
      "geometry::PointCloud with 2199 points.\n",
      "82\n",
      "geometry::PointCloud with 2117 points.\n",
      "geometry::PointCloud with 2117 points.\n",
      "73\n",
      "geometry::PointCloud with 2044 points.\n",
      "geometry::PointCloud with 2044 points.\n",
      "83\n",
      "geometry::PointCloud with 1961 points.\n",
      "geometry::PointCloud with 1961 points.\n",
      "73\n",
      "geometry::PointCloud with 1888 points.\n",
      "geometry::PointCloud with 1888 points.\n",
      "76\n",
      "geometry::PointCloud with 1812 points.\n",
      "geometry::PointCloud with 1812 points.\n",
      "54\n",
      "geometry::PointCloud with 1758 points.\n",
      "geometry::PointCloud with 1758 points.\n",
      "65\n",
      "geometry::PointCloud with 1693 points.\n",
      "geometry::PointCloud with 1693 points.\n",
      "64\n",
      "geometry::PointCloud with 1629 points.\n",
      "geometry::PointCloud with 1629 points.\n",
      "54\n",
      "geometry::PointCloud with 1575 points.\n",
      "geometry::PointCloud with 1575 points.\n",
      "49\n",
      "geometry::PointCloud with 1526 points.\n",
      "geometry::PointCloud with 1526 points.\n",
      "54\n",
      "geometry::PointCloud with 1472 points.\n",
      "geometry::PointCloud with 1472 points.\n",
      "71\n",
      "geometry::PointCloud with 1401 points.\n",
      "geometry::PointCloud with 1401 points.\n",
      "56\n",
      "geometry::PointCloud with 1345 points.\n",
      "geometry::PointCloud with 1345 points.\n",
      "69\n",
      "geometry::PointCloud with 1276 points.\n",
      "geometry::PointCloud with 1276 points.\n",
      "44\n",
      "geometry::PointCloud with 1232 points.\n",
      "geometry::PointCloud with 1232 points.\n",
      "38\n",
      "geometry::PointCloud with 1194 points.\n",
      "geometry::PointCloud with 1194 points.\n",
      "47\n",
      "geometry::PointCloud with 1147 points.\n",
      "geometry::PointCloud with 1147 points.\n",
      "39\n",
      "geometry::PointCloud with 1108 points.\n",
      "geometry::PointCloud with 1108 points.\n",
      "37\n",
      "geometry::PointCloud with 1071 points.\n",
      "geometry::PointCloud with 1071 points.\n",
      "46\n",
      "geometry::PointCloud with 1025 points.\n",
      "geometry::PointCloud with 1025 points.\n",
      "36\n",
      "geometry::PointCloud with 989 points.\n",
      "geometry::PointCloud with 989 points.\n",
      "35\n",
      "geometry::PointCloud with 954 points.\n",
      "geometry::PointCloud with 954 points.\n",
      "33\n",
      "geometry::PointCloud with 921 points.\n",
      "geometry::PointCloud with 921 points.\n",
      "34\n",
      "geometry::PointCloud with 887 points.\n",
      "geometry::PointCloud with 887 points.\n",
      "31\n",
      "geometry::PointCloud with 856 points.\n",
      "geometry::PointCloud with 856 points.\n",
      "34\n",
      "geometry::PointCloud with 822 points.\n",
      "geometry::PointCloud with 822 points.\n",
      "31\n",
      "geometry::PointCloud with 791 points.\n",
      "geometry::PointCloud with 791 points.\n",
      "33\n",
      "geometry::PointCloud with 758 points.\n",
      "geometry::PointCloud with 758 points.\n",
      "31\n",
      "geometry::PointCloud with 727 points.\n",
      "geometry::PointCloud with 727 points.\n",
      "29\n",
      "geometry::PointCloud with 698 points.\n",
      "geometry::PointCloud with 698 points.\n",
      "26\n",
      "geometry::PointCloud with 672 points.\n",
      "geometry::PointCloud with 672 points.\n",
      "22\n",
      "geometry::PointCloud with 650 points.\n",
      "geometry::PointCloud with 650 points.\n",
      "24\n",
      "geometry::PointCloud with 626 points.\n",
      "geometry::PointCloud with 626 points.\n",
      "26\n",
      "geometry::PointCloud with 600 points.\n",
      "geometry::PointCloud with 600 points.\n",
      "19\n",
      "geometry::PointCloud with 581 points.\n",
      "geometry::PointCloud with 581 points.\n",
      "21\n",
      "geometry::PointCloud with 560 points.\n",
      "geometry::PointCloud with 560 points.\n",
      "24\n",
      "geometry::PointCloud with 536 points.\n",
      "geometry::PointCloud with 536 points.\n",
      "21\n",
      "geometry::PointCloud with 515 points.\n",
      "geometry::PointCloud with 515 points.\n",
      "21\n",
      "geometry::PointCloud with 494 points.\n",
      "geometry::PointCloud with 494 points.\n",
      "16\n",
      "geometry::PointCloud with 478 points.\n",
      "geometry::PointCloud with 478 points.\n",
      "15\n",
      "geometry::PointCloud with 463 points.\n",
      "geometry::PointCloud with 463 points.\n",
      "16\n",
      "geometry::PointCloud with 447 points.\n",
      "geometry::PointCloud with 447 points.\n",
      "14\n",
      "geometry::PointCloud with 433 points.\n",
      "geometry::PointCloud with 433 points.\n",
      "19\n",
      "geometry::PointCloud with 414 points.\n",
      "geometry::PointCloud with 414 points.\n",
      "20\n",
      "geometry::PointCloud with 394 points.\n",
      "geometry::PointCloud with 394 points.\n",
      "16\n",
      "geometry::PointCloud with 378 points.\n",
      "geometry::PointCloud with 378 points.\n",
      "15\n",
      "geometry::PointCloud with 363 points.\n",
      "geometry::PointCloud with 363 points.\n",
      "14\n",
      "geometry::PointCloud with 349 points.\n",
      "geometry::PointCloud with 349 points.\n",
      "17\n",
      "geometry::PointCloud with 332 points.\n",
      "geometry::PointCloud with 332 points.\n",
      "14\n",
      "geometry::PointCloud with 318 points.\n",
      "geometry::PointCloud with 318 points.\n",
      "16\n",
      "geometry::PointCloud with 302 points.\n",
      "geometry::PointCloud with 302 points.\n",
      "12\n",
      "geometry::PointCloud with 290 points.\n",
      "geometry::PointCloud with 290 points.\n",
      "11\n",
      "geometry::PointCloud with 279 points.\n",
      "geometry::PointCloud with 279 points.\n",
      "12\n",
      "geometry::PointCloud with 267 points.\n",
      "geometry::PointCloud with 267 points.\n",
      "11\n",
      "geometry::PointCloud with 256 points.\n",
      "geometry::PointCloud with 256 points.\n",
      "11\n",
      "geometry::PointCloud with 245 points.\n",
      "geometry::PointCloud with 245 points.\n",
      "12\n",
      "geometry::PointCloud with 233 points.\n",
      "geometry::PointCloud with 233 points.\n",
      "11\n",
      "geometry::PointCloud with 222 points.\n",
      "geometry::PointCloud with 222 points.\n",
      "12\n",
      "geometry::PointCloud with 210 points.\n",
      "geometry::PointCloud with 210 points.\n",
      "13\n",
      "geometry::PointCloud with 197 points.\n",
      "geometry::PointCloud with 197 points.\n",
      "10\n",
      "geometry::PointCloud with 187 points.\n",
      "geometry::PointCloud with 187 points.\n",
      "10\n",
      "geometry::PointCloud with 177 points.\n",
      "geometry::PointCloud with 177 points.\n",
      "8\n",
      "geometry::PointCloud with 169 points.\n",
      "geometry::PointCloud with 169 points.\n",
      "9\n",
      "geometry::PointCloud with 160 points.\n",
      "geometry::PointCloud with 160 points.\n",
      "8\n",
      "geometry::PointCloud with 152 points.\n",
      "geometry::PointCloud with 152 points.\n",
      "9\n",
      "geometry::PointCloud with 143 points.\n",
      "geometry::PointCloud with 143 points.\n",
      "7\n",
      "geometry::PointCloud with 136 points.\n",
      "geometry::PointCloud with 136 points.\n",
      "7\n",
      "geometry::PointCloud with 129 points.\n",
      "geometry::PointCloud with 129 points.\n",
      "9\n",
      "geometry::PointCloud with 120 points.\n",
      "geometry::PointCloud with 120 points.\n",
      "8\n",
      "geometry::PointCloud with 112 points.\n",
      "geometry::PointCloud with 112 points.\n",
      "8\n",
      "geometry::PointCloud with 104 points.\n",
      "geometry::PointCloud with 104 points.\n",
      "7\n",
      "geometry::PointCloud with 97 points.\n",
      "113\n"
     ]
    }
   ],
   "source": [
    "outlier_cloud = pcd\n",
    "inlier_clouds = []\n",
    "n = 500\n",
    "for i in range(n):\n",
    "    print(outlier_cloud)\n",
    "    plane_model, _inliers = outlier_cloud.segment_plane(distance_threshold=0.5,\n",
    "                                                 ransac_n=30,\n",
    "                                                 num_iterations=100)\n",
    "    print(len(_inliers))\n",
    "\n",
    "    inlier_cloud = outlier_cloud.select_down_sample(_inliers)\n",
    "    inlier_cloud.paint_uniform_color(cm.get_cmap('jet')(i*255//n)[:3])\n",
    "    inlier_clouds.append(inlier_cloud)\n",
    "    outlier_cloud = outlier_cloud.select_down_sample(_inliers, invert=True)\n",
    "    print(outlier_cloud)\n",
    "    if np.asarray(outlier_cloud.points).shape[0]<100:\n",
    "        print(i)\n",
    "        break\n",
    "inlier_clouds.append(outlier_cloud)\n"
   ]
  },
  {
   "cell_type": "code",
   "execution_count": 24,
   "metadata": {},
   "outputs": [
    {
     "data": {
      "text/plain": [
       "113"
      ]
     },
     "execution_count": 24,
     "metadata": {},
     "output_type": "execute_result"
    }
   ],
   "source": [
    "i"
   ]
  },
  {
   "cell_type": "code",
   "execution_count": 25,
   "metadata": {},
   "outputs": [],
   "source": [
    "o3d.visualization.draw_geometries(inlier_clouds)"
   ]
  },
  {
   "cell_type": "code",
   "execution_count": 14,
   "metadata": {},
   "outputs": [],
   "source": [
    "def custom_draw_geometry_with_custom_fov(pcd, fov_step):\n",
    "    vis = o3d.visualization.Visualizer()\n",
    "    vis.create_window()\n",
    "    vis.add_geometry(pcd)\n",
    "    ctr = vis.get_view_control()\n",
    "    print(\"Field of view (before changing) %.2f\" % ctr.get_field_of_view())\n",
    "    ctr.change_field_of_view(step=fov_step)\n",
    "    print(\"Field of view (after changing) %.2f\" % ctr.get_field_of_view())\n",
    "    vis.run()\n",
    "    vis.destroy_window()"
   ]
  },
  {
   "cell_type": "code",
   "execution_count": 28,
   "metadata": {},
   "outputs": [],
   "source": [
    "a='6081160010520977'"
   ]
  },
  {
   "cell_type": "code",
   "execution_count": 29,
   "metadata": {},
   "outputs": [
    {
     "data": {
      "text/plain": [
       "16"
      ]
     },
     "execution_count": 29,
     "metadata": {},
     "output_type": "execute_result"
    }
   ],
   "source": [
    "len(a)"
   ]
  },
  {
   "cell_type": "code",
   "execution_count": 69,
   "metadata": {},
   "outputs": [
    {
     "data": {
      "text/plain": [
       "array([[1, 1, 1],\n",
       "       [1, 1, 1],\n",
       "       [1, 1, 1]], dtype=uint8)"
      ]
     },
     "execution_count": 69,
     "metadata": {},
     "output_type": "execute_result"
    }
   ],
   "source": [
    "from skimage.morphology import disk,square\n",
    "square(3)"
   ]
  },
  {
   "cell_type": "code",
   "execution_count": 21,
   "metadata": {},
   "outputs": [
    {
     "ename": "TypeError",
     "evalue": "add_geometry(): incompatible function arguments. The following argument types are supported:\n    1. (self: open3d.open3d.visualization.Visualizer, geometry: open3d.open3d.geometry.Geometry, reset_bounding_box: bool = True) -> bool\n\nInvoked with: Visualizer with name Open3D, [geometry::PointCloud with 10202 points., geometry::PointCloud with 4659 points., geometry::PointCloud with 3989 points., geometry::PointCloud with 2339 points., geometry::PointCloud with 2130 points., geometry::PointCloud with 4079 points.]",
     "output_type": "error",
     "traceback": [
      "\u001b[0;31m---------------------------------------------------------------------------\u001b[0m",
      "\u001b[0;31mTypeError\u001b[0m                                 Traceback (most recent call last)",
      "\u001b[0;32m<ipython-input-21-26a1abf8867c>\u001b[0m in \u001b[0;36m<module>\u001b[0;34m\u001b[0m\n\u001b[0;32m----> 1\u001b[0;31m \u001b[0mcustom_draw_geometry_with_custom_fov\u001b[0m\u001b[0;34m(\u001b[0m\u001b[0minlier_clouds\u001b[0m\u001b[0;34m,\u001b[0m \u001b[0;36m30.0\u001b[0m\u001b[0;34m)\u001b[0m\u001b[0;34m\u001b[0m\u001b[0;34m\u001b[0m\u001b[0m\n\u001b[0m",
      "\u001b[0;32m<ipython-input-17-8ed0374bc096>\u001b[0m in \u001b[0;36mcustom_draw_geometry_with_custom_fov\u001b[0;34m(pcd, fov_step)\u001b[0m\n\u001b[1;32m      2\u001b[0m     \u001b[0mvis\u001b[0m \u001b[0;34m=\u001b[0m \u001b[0mo3d\u001b[0m\u001b[0;34m.\u001b[0m\u001b[0mvisualization\u001b[0m\u001b[0;34m.\u001b[0m\u001b[0mVisualizer\u001b[0m\u001b[0;34m(\u001b[0m\u001b[0;34m)\u001b[0m\u001b[0;34m\u001b[0m\u001b[0;34m\u001b[0m\u001b[0m\n\u001b[1;32m      3\u001b[0m     \u001b[0mvis\u001b[0m\u001b[0;34m.\u001b[0m\u001b[0mcreate_window\u001b[0m\u001b[0;34m(\u001b[0m\u001b[0;34m)\u001b[0m\u001b[0;34m\u001b[0m\u001b[0;34m\u001b[0m\u001b[0m\n\u001b[0;32m----> 4\u001b[0;31m     \u001b[0mvis\u001b[0m\u001b[0;34m.\u001b[0m\u001b[0madd_geometry\u001b[0m\u001b[0;34m(\u001b[0m\u001b[0mpcd\u001b[0m\u001b[0;34m)\u001b[0m\u001b[0;34m\u001b[0m\u001b[0;34m\u001b[0m\u001b[0m\n\u001b[0m\u001b[1;32m      5\u001b[0m     \u001b[0mctr\u001b[0m \u001b[0;34m=\u001b[0m \u001b[0mvis\u001b[0m\u001b[0;34m.\u001b[0m\u001b[0mget_view_control\u001b[0m\u001b[0;34m(\u001b[0m\u001b[0;34m)\u001b[0m\u001b[0;34m\u001b[0m\u001b[0;34m\u001b[0m\u001b[0m\n\u001b[1;32m      6\u001b[0m     \u001b[0mprint\u001b[0m\u001b[0;34m(\u001b[0m\u001b[0;34m\"Field of view (before changing) %.2f\"\u001b[0m \u001b[0;34m%\u001b[0m \u001b[0mctr\u001b[0m\u001b[0;34m.\u001b[0m\u001b[0mget_field_of_view\u001b[0m\u001b[0;34m(\u001b[0m\u001b[0;34m)\u001b[0m\u001b[0;34m)\u001b[0m\u001b[0;34m\u001b[0m\u001b[0;34m\u001b[0m\u001b[0m\n",
      "\u001b[0;31mTypeError\u001b[0m: add_geometry(): incompatible function arguments. The following argument types are supported:\n    1. (self: open3d.open3d.visualization.Visualizer, geometry: open3d.open3d.geometry.Geometry, reset_bounding_box: bool = True) -> bool\n\nInvoked with: Visualizer with name Open3D, [geometry::PointCloud with 10202 points., geometry::PointCloud with 4659 points., geometry::PointCloud with 3989 points., geometry::PointCloud with 2339 points., geometry::PointCloud with 2130 points., geometry::PointCloud with 4079 points.]"
     ]
    }
   ],
   "source": [
    "custom_draw_geometry_with_custom_fov(inlier_clouds, 30.0)\n"
   ]
  },
  {
   "cell_type": "code",
   "execution_count": 7,
   "metadata": {},
   "outputs": [],
   "source": [
    "    downpcd = pcd.voxel_down_sample(voxel_size=0.05)\n"
   ]
  },
  {
   "cell_type": "code",
   "execution_count": 8,
   "metadata": {},
   "outputs": [],
   "source": [
    "    o3d.visualization.draw_geometries([downpcd])\n"
   ]
  },
  {
   "cell_type": "code",
   "execution_count": 9,
   "metadata": {},
   "outputs": [],
   "source": [
    "downpcd.estimate_normals(search_param=o3d.geometry.KDTreeSearchParamHybrid(\n",
    "        radius=0.1, max_nn=30))\n",
    "o3d.visualization.draw_geometries([downpcd])"
   ]
  },
  {
   "cell_type": "code",
   "execution_count": 11,
   "metadata": {},
   "outputs": [],
   "source": [
    "pcd_tree = o3d.geometry.KDTreeFlann(pcd)"
   ]
  },
  {
   "cell_type": "code",
   "execution_count": 12,
   "metadata": {},
   "outputs": [],
   "source": [
    "pcd.colors[1500] = [1, 0, 0]"
   ]
  },
  {
   "cell_type": "code",
   "execution_count": 14,
   "metadata": {},
   "outputs": [
    {
     "name": "stdout",
     "output_type": "stream",
     "text": [
      "Find its neighbors with distance less than 0.2, paint green.\n",
      "Visualize the point cloud.\n"
     ]
    }
   ],
   "source": [
    "    [k, idx, _] = pcd_tree.search_knn_vector_3d(pcd.points[1500], 200)\n",
    "    np.asarray(pcd.colors)[idx[1:], :] = [0, 0, 1]\n",
    "\n",
    "    print(\"Find its neighbors with distance less than 0.2, paint green.\")\n",
    "    [k, idx, _] = pcd_tree.search_radius_vector_3d(pcd.points[1500], 0.2)\n",
    "    np.asarray(pcd.colors)[idx[1:], :] = [0, 1, 0]\n",
    "\n",
    "    print(\"Visualize the point cloud.\")\n",
    "    o3d.visualization.draw_geometries([pcd])"
   ]
  },
  {
   "cell_type": "code",
   "execution_count": 9,
   "metadata": {},
   "outputs": [
    {
     "name": "stdout",
     "output_type": "stream",
     "text": [
      "19029\n",
      "Plane model: 0.02x + 1.00y + -0.03z + -100.61 = 0\n"
     ]
    }
   ],
   "source": [
    "plane_model, inliers = pcd.segment_plane(distance_threshold=1,\n",
    "                                         ransac_n=3,\n",
    "                                         num_iterations=100)\n",
    "print(len(inliers))\n",
    "\n",
    "[a, b, c, d] = plane_model\n",
    "\n",
    "print(f\"Plane model: {a:.2f}x + {b:.2f}y + {c:.2f}z + {d:.2f} = 0\")\n",
    "\n",
    "inlier_cloud = pcd.select_down_sample(inliers)\n",
    "inlier_cloud.paint_uniform_color([1.0, 0, 0])\n",
    "\n",
    "outlier_cloud = pcd.select_down_sample(inliers, invert=True)\n",
    "\n",
    "o3d.visualization.draw_geometries([inlier_cloud,outlier_cloud])"
   ]
  },
  {
   "cell_type": "code",
   "execution_count": 20,
   "metadata": {},
   "outputs": [],
   "source": [
    "pcd = o3d.io.read_point_cloud('/Users/rsingh/Downloads/fragment.ply')\n",
    "\n",
    "o3d.visualization.draw_geometries([pcd])"
   ]
  },
  {
   "cell_type": "code",
   "execution_count": 42,
   "metadata": {},
   "outputs": [
    {
     "name": "stdout",
     "output_type": "stream",
     "text": [
      "Help on method segment_plane in module open3d.open3d.geometry:\n",
      "\n",
      "segment_plane(...) method of open3d.open3d.geometry.PointCloud instance\n",
      "    segment_plane(self, distance_threshold, ransac_n, num_iterations)\n",
      "    \n",
      "    Segments a plane in the point cloud using the RANSAC algorithm.\n",
      "    \n",
      "    Args:\n",
      "        distance_threshold (float): Max distance a point can be from the plane model, and still be considered an inlier.\n",
      "        ransac_n (int): Number of initial points to be considered inliers in each iteration.\n",
      "        num_iterations (int): Number of iterations.\n",
      "    \n",
      "    Returns:\n",
      "        Tuple[numpy.ndarray[float64[4, 1]], List[int]]\n",
      "\n"
     ]
    }
   ],
   "source": [
    "help(pcd.segment_plane)"
   ]
  },
  {
   "cell_type": "code",
   "execution_count": 8,
   "metadata": {},
   "outputs": [
    {
     "name": "stdout",
     "output_type": "stream",
     "text": [
      "['/Users/rsingh/Oyla Dropbox/Oyla/02 Technical/10 Data/44x33/02_Jan_data_January_02_17_04_03/', '/Users/rsingh/Oyla Dropbox/Oyla/02 Technical/10 Data/44x33/02_Jan_data_January_02_17_04_03/filtered_data_January_14_15_50_01', '/Users/rsingh/Oyla Dropbox/Oyla/02 Technical/10 Data/44x33/02_Jan_data_January_02_17_04_03/filtered_data_January_14_15_51_02', '/Users/rsingh/Oyla Dropbox/Oyla/02 Technical/10 Data/44x33/02_Jan_data_January_02_17_04_03/filtered_data_January_14_15_52_12', '/Users/rsingh/Oyla Dropbox/Oyla/02 Technical/10 Data/44x33/02_Jan_data_January_02_17_04_03/filtered_data_January_14_15_53_20', '/Users/rsingh/Oyla Dropbox/Oyla/02 Technical/10 Data/44x33/02_Jan_data_January_02_17_04_03/filtered_data_January_14_15_54_30', '/Users/rsingh/Oyla Dropbox/Oyla/02 Technical/10 Data/44x33/02_Jan_data_January_02_17_04_03/filtered_data_January_14_15_55_07', '/Users/rsingh/Oyla Dropbox/Oyla/02 Technical/10 Data/44x33/02_Jan_data_January_02_17_04_03/filtered_data_January_14_15_59_13', '/Users/rsingh/Oyla Dropbox/Oyla/02 Technical/10 Data/44x33/02_Jan_data_January_02_17_04_03/filtered_data_January_14_19_45_14', '/Users/rsingh/Oyla Dropbox/Oyla/02 Technical/10 Data/44x33/02_Jan_data_January_02_17_04_03/filtered_data_January_14_19_55_45', '/Users/rsingh/Oyla Dropbox/Oyla/02 Technical/10 Data/44x33/02_Jan_data_January_02_17_04_03/filtered_data_January_14_20_19_17']\n"
     ]
    }
   ],
   "source": [
    "dirs = ['/Users/rsingh/Oyla Dropbox/Oyla/02 Technical/10 Data/44x33/02_Jan_data_January_02_17_04_03/']\n",
    "#       '/Users/rsingh/Oyla Dropbox/Oyla/02 Technical/10 Data/10percentTargetTests/distamp_refboards_data_october_11_18_36_49/']\n",
    "#dirs\n",
    "#dirs.reverse()\n",
    "#dirs = [dirs[0]]\n",
    "dirs.extend(glob.glob(dirs[0]+'/filtered_data_January_14*'))\n",
    "print(dirs)"
   ]
  },
  {
   "cell_type": "code",
   "execution_count": 51,
   "metadata": {},
   "outputs": [
    {
     "name": "stdout",
     "output_type": "stream",
     "text": [
      "/Users/rsingh/Oyla Dropbox/Oyla/02 Technical/10 Data/44x33/02_Jan_data_January_02_17_04_03/\n",
      "64\n",
      "28\n",
      "8\n",
      "/Users/rsingh/Oyla Dropbox/Oyla/02 Technical/10 Data/44x33/02_Jan_data_January_02_17_04_03/filtered_data_January_14_15_50_01\n",
      "dict_keys(['Section', 'Type', 'Key', 'Argument Format', 'Value', 'Command Group', 'Description'])\n",
      "80\n",
      "40\n",
      "18\n",
      "7\n",
      "/Users/rsingh/Oyla Dropbox/Oyla/02 Technical/10 Data/44x33/02_Jan_data_January_02_17_04_03/filtered_data_January_14_15_51_02\n",
      "dict_keys(['Section', 'Type', 'Key', 'Argument Format', 'Value', 'Command Group', 'Description'])\n",
      "91\n",
      "43\n",
      "22\n",
      "9\n",
      "/Users/rsingh/Oyla Dropbox/Oyla/02 Technical/10 Data/44x33/02_Jan_data_January_02_17_04_03/filtered_data_January_14_15_52_12\n",
      "dict_keys(['Section', 'Type', 'Key', 'Argument Format', 'Value', 'Command Group', 'Description'])\n",
      "85\n",
      "38\n",
      "20\n",
      "9\n",
      "/Users/rsingh/Oyla Dropbox/Oyla/02 Technical/10 Data/44x33/02_Jan_data_January_02_17_04_03/filtered_data_January_14_15_53_20\n",
      "dict_keys(['Section', 'Type', 'Key', 'Argument Format', 'Value', 'Command Group', 'Description'])\n",
      "98\n",
      "51\n",
      "25\n",
      "10\n",
      "/Users/rsingh/Oyla Dropbox/Oyla/02 Technical/10 Data/44x33/02_Jan_data_January_02_17_04_03/filtered_data_January_14_15_54_30\n",
      "dict_keys(['Section', 'Type', 'Key', 'Argument Format', 'Value', 'Command Group', 'Description'])\n",
      "97\n",
      "49\n",
      "26\n",
      "10\n",
      "/Users/rsingh/Oyla Dropbox/Oyla/02 Technical/10 Data/44x33/02_Jan_data_January_02_17_04_03/filtered_data_January_14_15_55_07\n",
      "dict_keys(['Section', 'Type', 'Key', 'Argument Format', 'Value', 'Command Group', 'Description'])\n",
      "60\n",
      "31\n",
      "13\n",
      "/Users/rsingh/Oyla Dropbox/Oyla/02 Technical/10 Data/44x33/02_Jan_data_January_02_17_04_03/filtered_data_January_14_15_59_13\n",
      "dict_keys(['Section', 'Type', 'Key', 'Argument Format', 'Value', 'Command Group', 'Description'])\n",
      "80\n",
      "39\n",
      "19\n",
      "8\n",
      "/Users/rsingh/Oyla Dropbox/Oyla/02 Technical/10 Data/44x33/02_Jan_data_January_02_17_04_03/filtered_data_January_14_19_45_14\n",
      "dict_keys(['Section', 'Type', 'Key', 'Argument Format', 'Value', 'Command Group', 'Description'])\n",
      "80\n",
      "39\n",
      "19\n",
      "8\n",
      "/Users/rsingh/Oyla Dropbox/Oyla/02 Technical/10 Data/44x33/02_Jan_data_January_02_17_04_03/filtered_data_January_14_19_55_45\n",
      "dict_keys(['Section', 'Type', 'Key', 'Argument Format', 'Value', 'Command Group', 'Description'])\n",
      "53\n",
      "24\n",
      "8\n",
      "/Users/rsingh/Oyla Dropbox/Oyla/02 Technical/10 Data/44x33/02_Jan_data_January_02_17_04_03/filtered_data_January_14_20_19_17\n",
      "dict_keys(['Section', 'Type', 'Key', 'Argument Format', 'Value', 'Command Group', 'Description'])\n",
      "94\n",
      "50\n",
      "25\n",
      "9\n"
     ]
    }
   ],
   "source": [
    "results = {}\n",
    "thresholds = [0.1,0.25,0.5,1,2,5]\n",
    "for dir_path in dirs:\n",
    "    print(dir_path)\n",
    "    results[dir_path] = {}\n",
    "    results[dir_path][\"filter_str\"] = \"\"\n",
    "    if os.path.exists(dir_path+\"/filter_params.csv\"):\n",
    "        filter_parameters = read_csv_parameters(dir_path+\"/filter_params.csv\")\n",
    "        #print(filter_parameters)\n",
    "        filter_params = {}\n",
    "        for k in filter_parameters['filter_cmd'].keys():\n",
    "            #print(parameters['filter_cmd'][k][self.epoch_number])\n",
    "            try:\n",
    "                    filter_params[k] = int(filter_parameters['filter_cmd'][k][0])\n",
    "                    #parameters['filter_cmd'][k][0] = filter_parameters['filter_cmd'][k][0]\n",
    "#                     if int(filter_parameters['filter_cmd'][k][0]) == 1 and 'iterations' not in k and 'size' not in k:\n",
    "#                         results[dir_path][\"filter_str\"] += k+' '\n",
    "                    results[dir_path][\"filter_str\"] = filter_parameters['filter_cmd']['guided_filter_size'][0]+' '+filter_parameters['filter_cmd']['guided_filter_iterations'][0]+' '+filter_parameters['filter_cmd']['guided_filter_std_range'][0]\n",
    "            except ValueError:\n",
    "                    pass\n",
    "    else:\n",
    "        #print(dir_path.split('/')[-2])\n",
    "        results[dir_path][\"filter_str\"] = dir_path.split('/')[-2]\n",
    "    if 'distamp' in dir_path:\n",
    "        pcd = o3d.io.read_point_cloud(dir_path+'/kitti_r1000-850-90x70/3d/oyla_26.xyz',format='xyz')\n",
    "    else:\n",
    "        if os.path.exists(dir_path+'/kitti_r1000-800-44x33/3d/oyla_26.xyz'):\n",
    "            pcd = o3d.io.read_point_cloud(dir_path+'/kitti_r1000-800-44x33/3d/oyla_26.xyz',format='xyz')\n",
    "        else:\n",
    "            continue\n",
    "#     if 'distamp' in dir_path:\n",
    "#         pcd = o3d.io.read_point_cloud(dir_path+'/kitti_r600-400-90x70-250-0-200-0/3d/oyla_26.xyz',format='xyz')\n",
    "#     else:\n",
    "#         pcd = o3d.io.read_point_cloud(dir_path+'/kitti_r650-450-44x33-250-0-200-0//3d/oyla_26.xyz',format='xyz')\n",
    "    z = np.asarray(pcd.points)[:,2]\n",
    "    results[dir_path][\"num_points\"] = len(z) \n",
    "    results[dir_path][\"mean_z\"] = np.mean(z)\n",
    "    results[dir_path][\"std_z\"] = np.std(z)\n",
    "    results[dir_path][\"skew\"] = scipy.stats.skew(z)\n",
    "    results[dir_path][\"kurtosis\"] = scipy.stats.kurtosis(z)\n",
    "    results[dir_path]['fitted_points'] = []\n",
    "    results[dir_path]['fitted_planes'] = []\n",
    "    for t in thresholds:\n",
    "        \n",
    "        outlier_cloud = pcd\n",
    "        n = 200\n",
    "        for i in range(n):\n",
    "            #print(outlier_cloud)\n",
    "            plane_model, _inliers = outlier_cloud.segment_plane(distance_threshold=t,\n",
    "                                                         ransac_n=3,\n",
    "                                                         num_iterations=100)\n",
    "            #print(len(_inliers))\n",
    "\n",
    "            inlier_cloud = outlier_cloud.select_down_sample(_inliers)\n",
    "            inlier_cloud.paint_uniform_color(cm.get_cmap('jet')(i*255//n)[:3])\n",
    "            #inlier_clouds.append(inlier_cloud)\n",
    "            outlier_cloud = outlier_cloud.select_down_sample(_inliers, invert=True)\n",
    "            #print(outlier_cloud)\n",
    "            \n",
    "            if i==0:\n",
    "                single_fit = len(_inliers)\n",
    "                results[dir_path]['z'] = np.asarray(pcd.points)[:,2]\n",
    "            if np.asarray(outlier_cloud.points).shape[0]<1000:\n",
    "                print(i)\n",
    "                break\n",
    "#         plane_model, _inliers = pcd.segment_plane(distance_threshold=t,\n",
    "#                                                      ransac_n=3,\n",
    "#                                                      num_iterations=100)\n",
    "        results[dir_path]['fitted_planes'].append(i)\n",
    "        results[dir_path]['fitted_points'].append(single_fit)"
   ]
  },
  {
   "cell_type": "code",
   "execution_count": 52,
   "metadata": {
    "scrolled": false
   },
   "outputs": [
    {
     "data": {
      "text/plain": [
       "{'/Users/rsingh/Oyla Dropbox/Oyla/02 Technical/10 Data/44x33/02_Jan_data_January_02_17_04_03/': {'filter_str': '02_Jan_data_January_02_17_04_03',\n",
       "  'num_points': 28032,\n",
       "  'mean_z': 897.9367439922232,\n",
       "  'std_z': 16.602504892208138,\n",
       "  'skew': -2.465994232617561,\n",
       "  'kurtosis': 13.550233486554895,\n",
       "  'fitted_points': [333, 820, 1600, 3246, 6291, 13566],\n",
       "  'fitted_planes': [99, 99, 99, 64, 28, 8],\n",
       "  'z': array([765.66736, 830.40125, 788.8861 , ..., 888.18396, 891.6303 ,\n",
       "         880.7569 ])},\n",
       " '/Users/rsingh/Oyla Dropbox/Oyla/02 Technical/10 Data/44x33/02_Jan_data_January_02_17_04_03/filtered_data_January_14_15_50_01': {'filter_str': '3 1 0.001',\n",
       "  'num_points': 27810,\n",
       "  'mean_z': 896.2725139816613,\n",
       "  'std_z': 17.768109548105972,\n",
       "  'skew': -2.602715227327561,\n",
       "  'kurtosis': 13.283433853458078,\n",
       "  'fitted_points': [1126, 2736, 5317, 9761, 15062, 20920],\n",
       "  'fitted_planes': [99, 99, 80, 40, 18, 7],\n",
       "  'z': array([893.0025 , 892.85077, 892.8421 , ..., 860.469  , 825.76544,\n",
       "         783.01215])},\n",
       " '/Users/rsingh/Oyla Dropbox/Oyla/02 Technical/10 Data/44x33/02_Jan_data_January_02_17_04_03/filtered_data_January_14_15_51_02': {'filter_str': '3 3 0.001',\n",
       "  'num_points': 27595,\n",
       "  'mean_z': 894.9521457782207,\n",
       "  'std_z': 20.254548265185218,\n",
       "  'skew': -2.4493493588964834,\n",
       "  'kurtosis': 10.897876351541182,\n",
       "  'fitted_points': [1274, 3348, 5952, 9878, 14518, 19770],\n",
       "  'fitted_planes': [99, 99, 91, 43, 22, 9],\n",
       "  'z': array([891.1919, 891.3545, 891.3626, ..., 811.4716, 783.7197, 753.6396])},\n",
       " '/Users/rsingh/Oyla Dropbox/Oyla/02 Technical/10 Data/44x33/02_Jan_data_January_02_17_04_03/filtered_data_January_14_15_52_12': {'filter_str': '3 1 0.01',\n",
       "  'num_points': 27823,\n",
       "  'mean_z': 896.0123584473279,\n",
       "  'std_z': 18.125048620051405,\n",
       "  'skew': -2.6201893840606365,\n",
       "  'kurtosis': 13.205461217721947,\n",
       "  'fitted_points': [1073, 2638, 4998, 9599, 15415, 20927],\n",
       "  'fitted_planes': [99, 99, 85, 38, 20, 9],\n",
       "  'z': array([893.0025 , 892.85077, 892.8421 , ..., 860.469  , 825.61084,\n",
       "         782.8576 ])},\n",
       " '/Users/rsingh/Oyla Dropbox/Oyla/02 Technical/10 Data/44x33/02_Jan_data_January_02_17_04_03/filtered_data_January_14_15_53_20': {'filter_str': '3 1 0.1',\n",
       "  'num_points': 27834,\n",
       "  'mean_z': 895.0066270352806,\n",
       "  'std_z': 20.464212300172264,\n",
       "  'skew': -2.775907360513639,\n",
       "  'kurtosis': 12.757747621404402,\n",
       "  'fitted_points': [1018, 2686, 5148, 9366, 14363, 20587],\n",
       "  'fitted_planes': [99, 99, 98, 51, 25, 10],\n",
       "  'z': array([893.0025 , 892.85077, 892.8421 , ..., 860.469  , 825.61084,\n",
       "         782.8576 ])},\n",
       " '/Users/rsingh/Oyla Dropbox/Oyla/02 Technical/10 Data/44x33/02_Jan_data_January_02_17_04_03/filtered_data_January_14_15_54_30': {'filter_str': '3 1 1',\n",
       "  'num_points': 27619,\n",
       "  'mean_z': 895.2237553340091,\n",
       "  'std_z': 20.36869614920955,\n",
       "  'skew': -2.8461206474312526,\n",
       "  'kurtosis': 13.509090391848762,\n",
       "  'fitted_points': [1170, 2661, 5205, 9206, 15658, 20742],\n",
       "  'fitted_planes': [99, 99, 97, 49, 26, 10],\n",
       "  'z': array([893.0025 , 892.85077, 892.8421 , ..., 860.469  , 825.61084,\n",
       "         782.8576 ])},\n",
       " '/Users/rsingh/Oyla Dropbox/Oyla/02 Technical/10 Data/44x33/02_Jan_data_January_02_17_04_03/filtered_data_January_14_15_55_07': {'filter_str': '5 1 1',\n",
       "  'num_points': 27388,\n",
       "  'mean_z': 893.7545283014459,\n",
       "  'std_z': 22.403119154292458,\n",
       "  'skew': -2.3957585279163722,\n",
       "  'kurtosis': 9.7719871052641,\n",
       "  'fitted_points': [1272, 2959, 5705, 9281, 14658, 19543],\n",
       "  'fitted_planes': [99, 99, 99, 60, 31, 13],\n",
       "  'z': array([891.489  , 891.80054, 891.80896, ..., 816.57227, 788.9754 ,\n",
       "         757.96814])},\n",
       " '/Users/rsingh/Oyla Dropbox/Oyla/02 Technical/10 Data/44x33/02_Jan_data_January_02_17_04_03/filtered_data_January_14_15_59_13': {'filter_str': '3 1 0.0001',\n",
       "  'num_points': 27831,\n",
       "  'mean_z': 896.3468127016636,\n",
       "  'std_z': 17.612194049257827,\n",
       "  'skew': -2.577761860386657,\n",
       "  'kurtosis': 13.389051771051541,\n",
       "  'fitted_points': [1117, 2672, 5321, 9238, 16070, 21113],\n",
       "  'fitted_planes': [99, 99, 80, 39, 19, 8],\n",
       "  'z': array([893.0025 , 892.85077, 892.8421 , ..., 860.6236 , 826.0746 ,\n",
       "         783.63055])},\n",
       " '/Users/rsingh/Oyla Dropbox/Oyla/02 Technical/10 Data/44x33/02_Jan_data_January_02_17_04_03/filtered_data_January_14_19_45_14': {'filter_str': '3 1 0.00001',\n",
       "  'num_points': 27886,\n",
       "  'mean_z': 896.6332010596715,\n",
       "  'std_z': 16.99086769029166,\n",
       "  'skew': -2.7093874154503927,\n",
       "  'kurtosis': 15.252146346063022,\n",
       "  'fitted_points': [1117, 2782, 5195, 8937, 14463, 21067],\n",
       "  'fitted_planes': [99, 99, 80, 39, 19, 8],\n",
       "  'z': array([893.0025 , 892.85077, 892.8421 , ..., 862.78754, 829.47534,\n",
       "         788.423  ])},\n",
       " '/Users/rsingh/Oyla Dropbox/Oyla/02 Technical/10 Data/44x33/02_Jan_data_January_02_17_04_03/filtered_data_January_14_19_55_45': {'filter_str': '3 1 0.00001',\n",
       "  'num_points': 27846,\n",
       "  'mean_z': 896.7786377264238,\n",
       "  'std_z': 17.661165278885868,\n",
       "  'skew': -2.8632081486107985,\n",
       "  'kurtosis': 16.112306855552784,\n",
       "  'fitted_points': [940, 2065, 4599, 8397, 13513, 20741],\n",
       "  'fitted_planes': [99, 99, 99, 53, 24, 8],\n",
       "  'z': array([893.28937, 893.10547, 895.1704 , ..., 856.5268 , 820.42365,\n",
       "         781.8363 ])},\n",
       " '/Users/rsingh/Oyla Dropbox/Oyla/02 Technical/10 Data/44x33/02_Jan_data_January_02_17_04_03/filtered_data_January_14_20_19_17': {'filter_str': '3 1 100',\n",
       "  'num_points': 27544,\n",
       "  'mean_z': 895.3627878263868,\n",
       "  'std_z': 20.118965761858522,\n",
       "  'skew': -2.8781755278067624,\n",
       "  'kurtosis': 14.175480454641392,\n",
       "  'fitted_points': [1121, 2698, 5049, 8644, 15708, 20551],\n",
       "  'fitted_planes': [99, 99, 94, 50, 25, 9],\n",
       "  'z': array([893.0025 , 892.85077, 892.8421 , ..., 860.469  , 825.61084,\n",
       "         782.8576 ])}}"
      ]
     },
     "execution_count": 52,
     "metadata": {},
     "output_type": "execute_result"
    }
   ],
   "source": [
    "results"
   ]
  },
  {
   "cell_type": "code",
   "execution_count": 81,
   "metadata": {},
   "outputs": [
    {
     "data": {
      "image/png": "[encoded data removed]",
      "text/plain": [
       "<Figure size 432x288 with 1 Axes>"
      ]
     },
     "metadata": {
      "needs_background": "light"
     },
     "output_type": "display_data"
    }
   ],
   "source": [
    "legend = []\n",
    "legs = ['r-s','g-s','b-s','k-s','y-s','m-s','c-s','r-o','g-o','b-o','k-o','y-o','m-o','c-o']\n",
    "\n",
    "for i,k in enumerate(results.keys()):\n",
    "    if ' '  in results[k]['filter_str']:\n",
    "        plt.semilogx(thresholds,np.asarray(results[k]['fitted_points'])/results[k]['num_points'],legs[i])\n",
    "        legend.append(results[k]['filter_str'])\n",
    "lgd = plt.legend(legend,bbox_to_anchor=(1.1, 1.05))\n",
    "plt.grid('on')\n",
    "plt.ylabel('percentage of points fitted by plane')\n",
    "plt.xlabel('plane fit threshold')\n",
    "plt.savefig('/Users/rsingh/Downloads/test.png',box_extra_artists=(lgd,), bbox_inches='tight')"
   ]
  },
  {
   "cell_type": "code",
   "execution_count": 74,
   "metadata": {},
   "outputs": [
    {
     "name": "stdout",
     "output_type": "stream",
     "text": [
      "[99, 99, 80, 40, 18, 7] 3 1 0.001\n",
      "[99, 99, 85, 38, 20, 9] 3 1 0.01\n",
      "[99, 99, 98, 51, 25, 10] 3 1 0.1\n",
      "[99, 99, 97, 49, 26, 10] 3 1 1\n",
      "[99, 99, 80, 39, 19, 8] 3 1 0.0001\n",
      "[99, 99, 80, 39, 19, 8] 3 1 0.00001\n",
      "[99, 99, 99, 53, 24, 8] 3 1 0.00001\n",
      "[99, 99, 94, 50, 25, 9] 3 1 100\n"
     ]
    },
    {
     "data": {
      "image/png": "[encoded data removed]",
      "text/plain": [
       "<Figure size 432x288 with 1 Axes>"
      ]
     },
     "metadata": {
      "needs_background": "light"
     },
     "output_type": "display_data"
    }
   ],
   "source": [
    "legs = ['r-s','g-s','b-s','k-s','y-s','m-s','c-s','r-o','g-o','b-o','k-o','y-o','m-o','c-o']\n",
    "legend = []\n",
    "for i,k in enumerate(results.keys()):\n",
    "    if '3 1 '  in results[k]['filter_str']:\n",
    "        plt.semilogx(thresholds,np.asarray(results[k]['fitted_planes']),legs[i])\n",
    "        print(results[k]['fitted_planes'],results[k]['filter_str'])\n",
    "        legend.append(results[k]['filter_str'])\n",
    "lgd = plt.legend(legend,bbox_to_anchor=(1.1, 1.05))\n",
    "plt.grid('on')\n",
    "plt.ylabel('number of planes fitted')\n",
    "plt.xlabel('plane fit threshold')\n",
    "plt.savefig('/Users/rsingh/Downloads/test1.png',box_extra_artists=(lgd,), bbox_inches='tight')"
   ]
  },
  {
   "cell_type": "code",
   "execution_count": 67,
   "metadata": {},
   "outputs": [
    {
     "data": {
      "text/plain": [
       "[99, 99, 80, 39, 19, 8]"
      ]
     },
     "execution_count": 67,
     "metadata": {},
     "output_type": "execute_result"
    }
   ],
   "source": [
    "print(results['/Users/rsingh/Oyla Dropbox/Oyla/02 Technical/10 Data/44x33/02_Jan_data_January_02_17_04_03/filtered_data_January_14_15_59_13']['fitted_planes']"
   ]
  },
  {
   "cell_type": "code",
   "execution_count": 13,
   "metadata": {},
   "outputs": [
    {
     "data": {
      "image/png": "[encoded data removed]",
      "text/plain": [
       "<Figure size 1080x1080 with 6 Axes>"
      ]
     },
     "metadata": {
      "needs_background": "light"
     },
     "output_type": "display_data"
    }
   ],
   "source": [
    "r = []\n",
    "f, axs = plt.subplots(6,1,figsize=(15,15))\n",
    "legs = ['r-s','g-s','b-s','k-s','y-s','m-s','c-s','r-o','g-o','b-o','k-o','y-o','m-o','c-o']\n",
    "\n",
    "for i,k in enumerate(results.keys()):\n",
    "    axs[0].plot(i,results[k]['num_points'],legs[i])\n",
    "    axs[0].set_ylabel('num points')\n",
    "    axs[1].plot(i,results[k]['mean_z'],legs[i])\n",
    "    axs[1].set_ylabel('mean z')\n",
    "    axs[2].plot(i,results[k]['std_z'],legs[i])\n",
    "    axs[2].set_ylabel('std z')\n",
    "    axs[3].plot(i,results[k]['skew'],legs[i])\n",
    "    axs[3].set_ylabel('skew z')\n",
    "    axs[4].plot(i,results[k]['kurtosis'],legs[i])\n",
    "    axs[4].set_ylabel('kurtosis z')\n",
    "    axs[5].plot(i,results[k]['kurtosis']-np.power(results[k]['skew'],2),legs[i])\n",
    "    axs[5].set_ylabel('kurtosis-skew^2 z')\n",
    "    axs[5].grid('on')\n",
    "lgd = axs[5].legend(legend,bbox_to_anchor=(1.1, 1.05))\n",
    "plt.savefig('/Users/rsingh/Downloads/test2.png',box_extra_artists=(lgd,), bbox_inches='tight')"
   ]
  },
  {
   "cell_type": "code",
   "execution_count": 83,
   "metadata": {},
   "outputs": [
    {
     "name": "stdout",
     "output_type": "stream",
     "text": [
      "/Users/rsingh/Oyla Dropbox/Oyla/02 Technical/10 Data/44x33/02_Jan_data_January_02_17_04_03/\n",
      "/Users/rsingh/Oyla Dropbox/Oyla/02 Technical/10 Data/44x33/02_Jan_data_January_02_17_04_03/filtered_data_January_14_15_50_01\n",
      "/Users/rsingh/Oyla Dropbox/Oyla/02 Technical/10 Data/44x33/02_Jan_data_January_02_17_04_03/filtered_data_January_14_15_51_02\n",
      "/Users/rsingh/Oyla Dropbox/Oyla/02 Technical/10 Data/44x33/02_Jan_data_January_02_17_04_03/filtered_data_January_14_15_52_12\n",
      "/Users/rsingh/Oyla Dropbox/Oyla/02 Technical/10 Data/44x33/02_Jan_data_January_02_17_04_03/filtered_data_January_14_15_53_20\n",
      "/Users/rsingh/Oyla Dropbox/Oyla/02 Technical/10 Data/44x33/02_Jan_data_January_02_17_04_03/filtered_data_January_14_15_54_30\n",
      "/Users/rsingh/Oyla Dropbox/Oyla/02 Technical/10 Data/44x33/02_Jan_data_January_02_17_04_03/filtered_data_January_14_15_55_07\n",
      "/Users/rsingh/Oyla Dropbox/Oyla/02 Technical/10 Data/44x33/02_Jan_data_January_02_17_04_03/filtered_data_January_14_15_59_13\n",
      "/Users/rsingh/Oyla Dropbox/Oyla/02 Technical/10 Data/44x33/02_Jan_data_January_02_17_04_03/filtered_data_January_14_19_45_14\n"
     ]
    },
    {
     "data": {
      "image/png": "[encoded data removed]",
      "text/plain": [
       "<Figure size 432x288 with 1 Axes>"
      ]
     },
     "metadata": {
      "needs_background": "light"
     },
     "output_type": "display_data"
    }
   ],
   "source": [
    "color = ['r','g','b','k','y','m','c','r','g']\n",
    "for i,k in enumerate(results.keys()):\n",
    "    _=plt.hist(results[k]['z'],100,color=color[i])\n",
    "    print(k)\n",
    "plt.savefig('/Users/rsingh/Downloads/test3.png')"
   ]
  },
  {
   "cell_type": "code",
   "execution_count": null,
   "metadata": {},
   "outputs": [],
   "source": []
  }
 ],
 "metadata": {
  "kernelspec": {
   "display_name": "Python 3",
   "language": "python",
   "name": "python3"
  },
  "language_info": {
   "codemirror_mode": {
    "name": "ipython",
    "version": 3
   },
   "file_extension": ".py",
   "mimetype": "text/x-python",
   "name": "python",
   "nbconvert_exporter": "python",
   "pygments_lexer": "ipython3",
   "version": "3.7.3"
  }
 },
 "nbformat": 4,
 "nbformat_minor": 2
}
